{
  "cells": [
    {
      "cell_type": "markdown",
      "source": [
        "# Whisper's transcription plus Pyannote's Diarization \n",
        "\n",
        "Andrej Karpathy [suggested](https://twitter.com/karpathy/status/1574476200801538048?s=20&t=s5IMMXOYjBI6-91dib6w8g) training a classifier on top of  OpenAI [Whisper](https://openai.com/blog/whisper/) model features to identify the speaker, so we can visualize the speaker in the transcript. But, as [pointed out](https://twitter.com/tarantulae/status/1574493613362388992?s=20&t=s5IMMXOYjBI6-91dib6w8g) by Christian Perone, it seems that features from whisper wouldn't be that great for speaker recognition as its main objective is basically to ignore speaker differences.\n",
        "\n",
        "In the following, I use [**`pyannote-audio`**](https://github.com/pyannote/pyannote-audio), a speaker diarization toolkit by Hervé Bredin, to identify the speakers, and then match it with the transcriptions of Whispr. I do it on the first 30 minutes of  Lex's 2nd [interview](https://youtu.be/SGzMElJ11Cc) with Yann LeCun. Check the result [**here**](https://majdoddin.github.io/lexicap.html). \n",
        "\n",
        "To make it easier to match the transcriptions to diarizations by speaker change, Sarah Kaiser [suggested](https://github.com/openai/whisper/discussions/264#discussioncomment-3825375) runnnig the pyannote.audio first and  then just running whisper on the split-by-speaker chunks. \n",
        "For sake of performance (and transcription quality?), we attach the audio segements into a single audio file with a silent spacer as a seperator, and run whisper on it. Enjoy it!"
      ],
      "metadata": {
        "id": "4-p2fYU-ZKnY"
      }
    },
    {
      "cell_type": "markdown",
      "source": [
        "# Preparing the audio file"
      ],
      "metadata": {
        "id": "wtljXaTXnowa"
      }
    },
    {
      "cell_type": "markdown",
      "source": [
        " Installing `yt-dlp` and downloading the [video](https://)."
      ],
      "metadata": {
        "id": "Ct4adIANpQvX"
      }
    },
    {
      "cell_type": "code",
      "execution_count": null,
      "metadata": {
        "id": "TL7fC4aZdpyH",
        "colab": {
          "base_uri": "https://localhost:8080/"
        },
        "outputId": "b1e04802-27db-4ca5-bbd1-97d0375825d6"
      },
      "outputs": [
        {
          "output_type": "stream",
          "name": "stdout",
          "text": [
            "Looking in indexes: https://pypi.org/simple, https://us-python.pkg.dev/colab-wheels/public/simple/\n",
            "Collecting yt-dlp\n",
            "  Downloading yt_dlp-2022.10.4-py2.py3-none-any.whl (2.7 MB)\n",
            "\u001b[K     |████████████████████████████████| 2.7 MB 7.6 MB/s \n",
            "\u001b[?25hCollecting pycryptodomex\n",
            "  Downloading pycryptodomex-3.15.0-cp35-abi3-manylinux2010_x86_64.whl (2.3 MB)\n",
            "\u001b[K     |████████████████████████████████| 2.3 MB 55.8 MB/s \n",
            "\u001b[?25hCollecting mutagen\n",
            "  Downloading mutagen-1.46.0-py3-none-any.whl (193 kB)\n",
            "\u001b[K     |████████████████████████████████| 193 kB 73.3 MB/s \n",
            "\u001b[?25hRequirement already satisfied: certifi in /usr/local/lib/python3.7/dist-packages (from yt-dlp) (2022.9.24)\n",
            "Collecting websockets\n",
            "  Downloading websockets-10.3-cp37-cp37m-manylinux_2_5_x86_64.manylinux1_x86_64.manylinux_2_12_x86_64.manylinux2010_x86_64.whl (112 kB)\n",
            "\u001b[K     |████████████████████████████████| 112 kB 74.0 MB/s \n",
            "\u001b[?25hCollecting brotli\n",
            "  Downloading Brotli-1.0.9-cp37-cp37m-manylinux1_x86_64.whl (357 kB)\n",
            "\u001b[K     |████████████████████████████████| 357 kB 64.7 MB/s \n",
            "\u001b[?25hInstalling collected packages: websockets, pycryptodomex, mutagen, brotli, yt-dlp\n",
            "Successfully installed brotli-1.0.9 mutagen-1.46.0 pycryptodomex-3.15.0 websockets-10.3 yt-dlp-2022.10.4\n"
          ]
        }
      ],
      "source": [
        "!pip install -U yt-dlp"
      ]
    },
    {
      "cell_type": "code",
      "execution_count": null,
      "metadata": {
        "id": "KsedMPN-daEX"
      },
      "outputs": [],
      "source": [
        "!wget -O - -q  https://github.com/yt-dlp/FFmpeg-Builds/releases/download/latest/ffmpeg-master-latest-linux64-gpl.tar.xz | xz -qdc| tar -x"
      ]
    },
    {
      "cell_type": "code",
      "execution_count": null,
      "metadata": {
        "id": "2VHzpv72dkvV",
        "colab": {
          "base_uri": "https://localhost:8080/"
        },
        "outputId": "5dc16c9c-e457-4a0b-e9b4-145fc718f7b6"
      },
      "outputs": [
        {
          "output_type": "stream",
          "name": "stdout",
          "text": [
            "[debug] Command-line config: ['-xv', '--ffmpeg-location', 'ffmpeg-master-latest-linux64-gpl/bin', '--audio-format', 'wav', '-o', 'lecun.wav', '--', 'https://youtu.be/SGzMElJ11Cc']\n",
            "[debug] Encodings: locale UTF-8, fs utf-8, pref UTF-8, out UTF-8, error UTF-8, screen UTF-8\n",
            "[debug] yt-dlp version 2022.10.04 [4e0511f] (pip) API\n",
            "[debug] Python 3.7.14 (CPython 64bit) - Linux-5.10.133+-x86_64-with-Ubuntu-18.04-bionic (glibc 2.26)\n",
            "[debug] Checking exe version: ffmpeg-master-latest-linux64-gpl/bin/ffmpeg -bsfs\n",
            "[debug] Checking exe version: ffmpeg-master-latest-linux64-gpl/bin/ffprobe -bsfs\n",
            "[debug] exe versions: ffmpeg N-108603-ge10e27a2ea-20221010 (setts), ffprobe N-108603-ge10e27a2ea-20221010\n",
            "[debug] Optional libraries: Cryptodome-3.15.0, brotli-1.0.9, certifi-2022.09.24, mutagen-1.46.0, sqlite3-2.6.0, websockets-10.3\n",
            "[debug] Proxy map: {}\n",
            "[debug] Loaded 1690 extractors\n",
            "[debug] [youtube] Extracting URL: https://youtu.be/SGzMElJ11Cc\n",
            "[youtube] SGzMElJ11Cc: Downloading webpage\n",
            "[youtube] SGzMElJ11Cc: Downloading android player API JSON\n",
            "[debug] Sort order given by extractor: quality, res, fps, hdr:12, source, vcodec:vp9.2, channels, acodec, lang, proto\n",
            "[debug] Formats sorted by: hasvid, ie_pref, quality, res, fps, hdr:12(7), source, vcodec:vp9.2(10), channels, acodec, lang, proto, filesize, fs_approx, tbr, vbr, abr, asr, vext, aext, hasaud, id\n",
            "[info] SGzMElJ11Cc: Downloading 1 format(s): 251\n",
            "[download] lecun.wav has already been downloaded\n",
            "[debug] ffmpeg command line: ffmpeg-master-latest-linux64-gpl/bin/ffprobe -show_streams file:lecun.wav\n",
            "[ExtractAudio] Destination: lecun.wav\n",
            "[debug] ffmpeg command line: ffmpeg-master-latest-linux64-gpl/bin/ffmpeg -y -loglevel repeat+info -i file:lecun.wav -vn -movflags +faststart file:lecun.temp.wav\n",
            "Deleting original file lecun.orig.wav (pass -k to keep)\n"
          ]
        }
      ],
      "source": [
        "!yt-dlp -xv --ffmpeg-location ffmpeg-master-latest-linux64-gpl/bin --audio-format wav  -o lecun.wav -- https://youtu.be/SGzMElJ11Cc"
      ]
    },
    {
      "cell_type": "markdown",
      "source": [
        "\n",
        "\n",
        "> Indented block\n",
        "\n",
        "\n",
        "Cutting the first 20 minutes of the video for further process.\n"
      ],
      "metadata": {
        "id": "Gzp4EVzWpd5I"
      }
    },
    {
      "cell_type": "code",
      "execution_count": null,
      "metadata": {
        "id": "ZqznOE7Kw725",
        "colab": {
          "base_uri": "https://localhost:8080/"
        },
        "outputId": "73877474-b03c-43cf-825b-2cea28ff0c3f"
      },
      "outputs": [
        {
          "output_type": "stream",
          "name": "stdout",
          "text": [
            "Looking in indexes: https://pypi.org/simple, https://us-python.pkg.dev/colab-wheels/public/simple/\n",
            "Collecting pydub\n",
            "  Downloading pydub-0.25.1-py2.py3-none-any.whl (32 kB)\n",
            "Installing collected packages: pydub\n",
            "Successfully installed pydub-0.25.1\n"
          ]
        }
      ],
      "source": [
        "!pip install pydub"
      ]
    },
    {
      "cell_type": "code",
      "execution_count": null,
      "metadata": {
        "id": "LlB5gZnswvL1",
        "colab": {
          "base_uri": "https://localhost:8080/"
        },
        "outputId": "085f2142-68da-4a37-b5e1-b24988619276"
      },
      "outputs": [
        {
          "output_type": "execute_result",
          "data": {
            "text/plain": [
              "<_io.BufferedRandom name='lecun1.wav'>"
            ]
          },
          "metadata": {},
          "execution_count": 7
        }
      ],
      "source": [
        "from pydub import AudioSegment\n",
        "\n",
        "t1 = 0 * 1000 #Works in milliseconds\n",
        "t2 = 20 * 60 * 1000\n",
        "\n",
        "newAudio = AudioSegment.from_wav(\"lecun.wav\")\n",
        "a = newAudio[t1:t2]\n",
        "a.export(\"lecun1.wav\", format=\"wav\") \n"
      ]
    },
    {
      "cell_type": "markdown",
      "source": [
        "`pyannote.audio` seems to miss the first 0.5 seconds of the audio, and, therefore, we prepend a spcacer.\n",
        "\n",
        "> Indented block\\\n",
        "\n"
      ],
      "metadata": {
        "id": "q7qMLTISFE6M"
      }
    },
    {
      "cell_type": "code",
      "source": [
        "audio = AudioSegment.from_wav(\"lecun1.wav\")\n",
        "spacermilli = 2000\n",
        "spacer = AudioSegment.silent(duration=spacermilli)\n",
        "audio = spacer.append(audio, crossfade=0)\n",
        "\n",
        "audio.export('audio.wav', format='wav')"
      ],
      "metadata": {
        "colab": {
          "base_uri": "https://localhost:8080/"
        },
        "id": "MaRDsBV1CWi8",
        "outputId": "e8b7eb9d-0908-4c87-f969-bb780e7e1d19"
      },
      "execution_count": null,
      "outputs": [
        {
          "output_type": "execute_result",
          "data": {
            "text/plain": [
              "<_io.BufferedRandom name='audio.wav'>"
            ]
          },
          "metadata": {},
          "execution_count": 8
        }
      ]
    },
    {
      "cell_type": "code",
      "source": [],
      "metadata": {
        "id": "mgIXH_8fZldb"
      },
      "execution_count": null,
      "outputs": []
    },
    {
      "cell_type": "markdown",
      "source": [
        "# Pyannote's Diarization"
      ],
      "metadata": {
        "id": "mb5eEOKUooju"
      }
    },
    {
      "cell_type": "markdown",
      "metadata": {
        "id": "nxNf1l8Ye_U9"
      },
      "source": [
        "[`pyannote.audio`](https://github.com/pyannote/pyannote-audio) is an open-source toolkit written in Python for **speaker diarization**. \n",
        "\n",
        "Based on [`PyTorch`](https://pytorch.org) machine learning framework, it provides a set of trainable end-to-end neural building blocks that can be combined and jointly optimized to build speaker diarization pipelines. \n",
        "\n",
        "`pyannote.audio` also comes with pretrained [models](https://huggingface.co/models?other=pyannote-audio-model) and [pipelines](https://huggingface.co/models?other=pyannote-audio-pipeline) covering a wide range of domains for voice activity detection, speaker segmentation, overlapped speech detection, speaker embedding reaching state-of-the-art performance for most of them. "
      ]
    },
    {
      "cell_type": "markdown",
      "source": [
        "Installing Pyannote and running it on the video to generate the diarizations."
      ],
      "metadata": {
        "id": "S8Ak_OQwqd-3"
      }
    },
    {
      "cell_type": "code",
      "execution_count": null,
      "metadata": {
        "colab": {
          "base_uri": "https://localhost:8080/",
          "height": 1000
        },
        "id": "vJGyKTQJqdzq",
        "outputId": "a910865e-252a-4609-f998-32f6d9d59300"
      },
      "outputs": [
        {
          "output_type": "stream",
          "name": "stdout",
          "text": [
            "Looking in indexes: https://pypi.org/simple, https://us-python.pkg.dev/colab-wheels/public/simple/\n",
            "Collecting pyannote.audio\n",
            "  Downloading pyannote.audio-2.0.1-py2.py3-none-any.whl (385 kB)\n",
            "\u001b[K     |████████████████████████████████| 385 kB 8.1 MB/s \n",
            "\u001b[?25hCollecting pyannote.database<5.0,>=4.1.1\n",
            "  Downloading pyannote.database-4.1.3-py3-none-any.whl (41 kB)\n",
            "\u001b[K     |████████████████████████████████| 41 kB 470 kB/s \n",
            "\u001b[?25hCollecting backports.cached-property\n",
            "  Downloading backports.cached_property-1.0.2-py3-none-any.whl (6.1 kB)\n",
            "Collecting torch-audiomentations>=0.11.0\n",
            "  Downloading torch_audiomentations-0.11.0-py3-none-any.whl (47 kB)\n",
            "\u001b[K     |████████████████████████████████| 47 kB 5.4 MB/s \n",
            "\u001b[?25hCollecting pyannote.pipeline<3.0,>=2.3\n",
            "  Downloading pyannote.pipeline-2.3-py3-none-any.whl (30 kB)\n",
            "Requirement already satisfied: networkx<3.0,>=2.6 in /usr/local/lib/python3.7/dist-packages (from pyannote.audio) (2.6.3)\n",
            "Collecting singledispatchmethod\n",
            "  Downloading singledispatchmethod-1.0-py2.py3-none-any.whl (4.7 kB)\n",
            "Collecting semver<3.0,>=2.10.2\n",
            "  Downloading semver-2.13.0-py2.py3-none-any.whl (12 kB)\n",
            "Requirement already satisfied: typing-extensions in /usr/local/lib/python3.7/dist-packages (from pyannote.audio) (4.1.1)\n",
            "Requirement already satisfied: torchaudio<1.0,>=0.10 in /usr/local/lib/python3.7/dist-packages (from pyannote.audio) (0.12.1+cu113)\n",
            "Collecting omegaconf<3.0,>=2.1\n",
            "  Downloading omegaconf-2.2.3-py3-none-any.whl (79 kB)\n",
            "\u001b[K     |████████████████████████████████| 79 kB 7.5 MB/s \n",
            "\u001b[?25hCollecting pyannote.metrics<4.0,>=3.2\n",
            "  Downloading pyannote.metrics-3.2.1-py3-none-any.whl (51 kB)\n",
            "\u001b[K     |████████████████████████████████| 51 kB 197 kB/s \n",
            "\u001b[?25hCollecting torchmetrics<1.0,>=0.6\n",
            "  Downloading torchmetrics-0.10.0-py3-none-any.whl (529 kB)\n",
            "\u001b[K     |████████████████████████████████| 529 kB 67.1 MB/s \n",
            "\u001b[?25hCollecting huggingface-hub<0.9,>=0.7\n",
            "  Downloading huggingface_hub-0.8.1-py3-none-any.whl (101 kB)\n",
            "\u001b[K     |████████████████████████████████| 101 kB 13.0 MB/s \n",
            "\u001b[?25hCollecting pyannote.core<5.0,>=4.4\n",
            "  Downloading pyannote.core-4.5-py3-none-any.whl (60 kB)\n",
            "\u001b[K     |████████████████████████████████| 60 kB 9.0 MB/s \n",
            "\u001b[?25hCollecting pytorch-lightning<1.7,>=1.5.4\n",
            "  Downloading pytorch_lightning-1.6.5-py3-none-any.whl (585 kB)\n",
            "\u001b[K     |████████████████████████████████| 585 kB 66.1 MB/s \n",
            "\u001b[?25hCollecting einops<0.4.0,>=0.3\n",
            "  Downloading einops-0.3.2-py3-none-any.whl (25 kB)\n",
            "Collecting pytorch-metric-learning<2.0,>=1.0.0\n",
            "  Downloading pytorch_metric_learning-1.6.2-py3-none-any.whl (111 kB)\n",
            "\u001b[K     |████████████████████████████████| 111 kB 74.4 MB/s \n",
            "\u001b[?25hRequirement already satisfied: torch>=1.9 in /usr/local/lib/python3.7/dist-packages (from pyannote.audio) (1.12.1+cu113)\n",
            "Collecting speechbrain<0.6,>=0.5.12\n",
            "  Downloading speechbrain-0.5.13-py3-none-any.whl (498 kB)\n",
            "\u001b[K     |████████████████████████████████| 498 kB 68.7 MB/s \n",
            "\u001b[?25hCollecting asteroid-filterbanks<0.5,>=0.4\n",
            "  Downloading asteroid_filterbanks-0.4.0-py3-none-any.whl (29 kB)\n",
            "Collecting soundfile<0.11,>=0.10.2\n",
            "  Downloading SoundFile-0.10.3.post1-py2.py3-none-any.whl (21 kB)\n",
            "Collecting hmmlearn<0.3,>=0.2.7\n",
            "  Downloading hmmlearn-0.2.8-cp37-cp37m-manylinux_2_5_x86_64.manylinux1_x86_64.whl (217 kB)\n",
            "\u001b[K     |████████████████████████████████| 217 kB 75.5 MB/s \n",
            "\u001b[?25hRequirement already satisfied: numpy in /usr/local/lib/python3.7/dist-packages (from asteroid-filterbanks<0.5,>=0.4->pyannote.audio) (1.21.6)\n",
            "Requirement already satisfied: scipy>=0.19 in /usr/local/lib/python3.7/dist-packages (from hmmlearn<0.3,>=0.2.7->pyannote.audio) (1.7.3)\n",
            "Requirement already satisfied: scikit-learn>=0.16 in /usr/local/lib/python3.7/dist-packages (from hmmlearn<0.3,>=0.2.7->pyannote.audio) (1.0.2)\n",
            "Requirement already satisfied: packaging>=20.9 in /usr/local/lib/python3.7/dist-packages (from huggingface-hub<0.9,>=0.7->pyannote.audio) (21.3)\n",
            "Requirement already satisfied: importlib-metadata in /usr/local/lib/python3.7/dist-packages (from huggingface-hub<0.9,>=0.7->pyannote.audio) (5.0.0)\n",
            "Requirement already satisfied: tqdm in /usr/local/lib/python3.7/dist-packages (from huggingface-hub<0.9,>=0.7->pyannote.audio) (4.64.1)\n",
            "Requirement already satisfied: requests in /usr/local/lib/python3.7/dist-packages (from huggingface-hub<0.9,>=0.7->pyannote.audio) (2.23.0)\n",
            "Requirement already satisfied: pyyaml>=5.1 in /usr/local/lib/python3.7/dist-packages (from huggingface-hub<0.9,>=0.7->pyannote.audio) (6.0)\n",
            "Requirement already satisfied: filelock in /usr/local/lib/python3.7/dist-packages (from huggingface-hub<0.9,>=0.7->pyannote.audio) (3.8.0)\n",
            "Collecting antlr4-python3-runtime==4.9.*\n",
            "  Downloading antlr4-python3-runtime-4.9.3.tar.gz (117 kB)\n",
            "\u001b[K     |████████████████████████████████| 117 kB 76.9 MB/s \n",
            "\u001b[?25hRequirement already satisfied: pyparsing!=3.0.5,>=2.0.2 in /usr/local/lib/python3.7/dist-packages (from packaging>=20.9->huggingface-hub<0.9,>=0.7->pyannote.audio) (3.0.9)\n",
            "Collecting simplejson>=3.8.1\n",
            "  Downloading simplejson-3.17.6-cp37-cp37m-manylinux_2_5_x86_64.manylinux1_x86_64.manylinux_2_12_x86_64.manylinux2010_x86_64.whl (130 kB)\n",
            "\u001b[K     |████████████████████████████████| 130 kB 73.0 MB/s \n",
            "\u001b[?25hRequirement already satisfied: sortedcontainers>=2.0.4 in /usr/local/lib/python3.7/dist-packages (from pyannote.core<5.0,>=4.4->pyannote.audio) (2.4.0)\n",
            "Requirement already satisfied: typer[all]>=0.2.1 in /usr/local/lib/python3.7/dist-packages (from pyannote.database<5.0,>=4.1.1->pyannote.audio) (0.4.2)\n",
            "Requirement already satisfied: pandas>=0.19 in /usr/local/lib/python3.7/dist-packages (from pyannote.database<5.0,>=4.1.1->pyannote.audio) (1.3.5)\n",
            "Requirement already satisfied: python-dateutil>=2.7.3 in /usr/local/lib/python3.7/dist-packages (from pandas>=0.19->pyannote.database<5.0,>=4.1.1->pyannote.audio) (2.8.2)\n",
            "Requirement already satisfied: pytz>=2017.3 in /usr/local/lib/python3.7/dist-packages (from pandas>=0.19->pyannote.database<5.0,>=4.1.1->pyannote.audio) (2022.4)\n",
            "Requirement already satisfied: tabulate>=0.7.7 in /usr/local/lib/python3.7/dist-packages (from pyannote.metrics<4.0,>=3.2->pyannote.audio) (0.8.10)\n",
            "Requirement already satisfied: matplotlib>=2.0.0 in /usr/local/lib/python3.7/dist-packages (from pyannote.metrics<4.0,>=3.2->pyannote.audio) (3.2.2)\n",
            "Requirement already satisfied: sympy>=1.1 in /usr/local/lib/python3.7/dist-packages (from pyannote.metrics<4.0,>=3.2->pyannote.audio) (1.7.1)\n",
            "Collecting docopt>=0.6.2\n",
            "  Downloading docopt-0.6.2.tar.gz (25 kB)\n",
            "Requirement already satisfied: cycler>=0.10 in /usr/local/lib/python3.7/dist-packages (from matplotlib>=2.0.0->pyannote.metrics<4.0,>=3.2->pyannote.audio) (0.11.0)\n",
            "Requirement already satisfied: kiwisolver>=1.0.1 in /usr/local/lib/python3.7/dist-packages (from matplotlib>=2.0.0->pyannote.metrics<4.0,>=3.2->pyannote.audio) (1.4.4)\n",
            "Collecting optuna>=1.4\n",
            "  Downloading optuna-3.0.3-py3-none-any.whl (348 kB)\n",
            "\u001b[K     |████████████████████████████████| 348 kB 46.3 MB/s \n",
            "\u001b[?25hCollecting alembic>=1.5.0\n",
            "  Downloading alembic-1.8.1-py3-none-any.whl (209 kB)\n",
            "\u001b[K     |████████████████████████████████| 209 kB 66.5 MB/s \n",
            "\u001b[?25hCollecting importlib-metadata\n",
            "  Downloading importlib_metadata-4.13.0-py3-none-any.whl (23 kB)\n",
            "Requirement already satisfied: sqlalchemy>=1.3.0 in /usr/local/lib/python3.7/dist-packages (from optuna>=1.4->pyannote.pipeline<3.0,>=2.3->pyannote.audio) (1.4.41)\n",
            "Collecting colorlog\n",
            "  Downloading colorlog-6.7.0-py2.py3-none-any.whl (11 kB)\n",
            "Collecting cliff\n",
            "  Downloading cliff-3.10.1-py3-none-any.whl (81 kB)\n",
            "\u001b[K     |████████████████████████████████| 81 kB 10.0 MB/s \n",
            "\u001b[?25hCollecting cmaes>=0.8.2\n",
            "  Downloading cmaes-0.8.2-py3-none-any.whl (15 kB)\n",
            "Requirement already satisfied: importlib-resources in /usr/local/lib/python3.7/dist-packages (from alembic>=1.5.0->optuna>=1.4->pyannote.pipeline<3.0,>=2.3->pyannote.audio) (5.9.0)\n",
            "Collecting Mako\n",
            "  Downloading Mako-1.2.3-py3-none-any.whl (78 kB)\n",
            "\u001b[K     |████████████████████████████████| 78 kB 8.6 MB/s \n",
            "\u001b[?25hRequirement already satisfied: zipp>=0.5 in /usr/local/lib/python3.7/dist-packages (from importlib-metadata->huggingface-hub<0.9,>=0.7->pyannote.audio) (3.8.1)\n",
            "Requirement already satisfied: six>=1.5 in /usr/local/lib/python3.7/dist-packages (from python-dateutil>=2.7.3->pandas>=0.19->pyannote.database<5.0,>=4.1.1->pyannote.audio) (1.15.0)\n",
            "Requirement already satisfied: fsspec[http]!=2021.06.0,>=2021.05.0 in /usr/local/lib/python3.7/dist-packages (from pytorch-lightning<1.7,>=1.5.4->pyannote.audio) (2022.8.2)\n",
            "Collecting pyDeprecate>=0.3.1\n",
            "  Downloading pyDeprecate-0.3.2-py3-none-any.whl (10 kB)\n",
            "Requirement already satisfied: protobuf<=3.20.1 in /usr/local/lib/python3.7/dist-packages (from pytorch-lightning<1.7,>=1.5.4->pyannote.audio) (3.17.3)\n",
            "Requirement already satisfied: tensorboard>=2.2.0 in /usr/local/lib/python3.7/dist-packages (from pytorch-lightning<1.7,>=1.5.4->pyannote.audio) (2.8.0)\n",
            "Requirement already satisfied: aiohttp!=4.0.0a0,!=4.0.0a1 in /usr/local/lib/python3.7/dist-packages (from fsspec[http]!=2021.06.0,>=2021.05.0->pytorch-lightning<1.7,>=1.5.4->pyannote.audio) (3.8.3)\n",
            "Requirement already satisfied: async-timeout<5.0,>=4.0.0a3 in /usr/local/lib/python3.7/dist-packages (from aiohttp!=4.0.0a0,!=4.0.0a1->fsspec[http]!=2021.06.0,>=2021.05.0->pytorch-lightning<1.7,>=1.5.4->pyannote.audio) (4.0.2)\n",
            "Requirement already satisfied: aiosignal>=1.1.2 in /usr/local/lib/python3.7/dist-packages (from aiohttp!=4.0.0a0,!=4.0.0a1->fsspec[http]!=2021.06.0,>=2021.05.0->pytorch-lightning<1.7,>=1.5.4->pyannote.audio) (1.2.0)\n",
            "Requirement already satisfied: asynctest==0.13.0 in /usr/local/lib/python3.7/dist-packages (from aiohttp!=4.0.0a0,!=4.0.0a1->fsspec[http]!=2021.06.0,>=2021.05.0->pytorch-lightning<1.7,>=1.5.4->pyannote.audio) (0.13.0)\n",
            "Requirement already satisfied: attrs>=17.3.0 in /usr/local/lib/python3.7/dist-packages (from aiohttp!=4.0.0a0,!=4.0.0a1->fsspec[http]!=2021.06.0,>=2021.05.0->pytorch-lightning<1.7,>=1.5.4->pyannote.audio) (22.1.0)\n",
            "Requirement already satisfied: frozenlist>=1.1.1 in /usr/local/lib/python3.7/dist-packages (from aiohttp!=4.0.0a0,!=4.0.0a1->fsspec[http]!=2021.06.0,>=2021.05.0->pytorch-lightning<1.7,>=1.5.4->pyannote.audio) (1.3.1)\n",
            "Requirement already satisfied: yarl<2.0,>=1.0 in /usr/local/lib/python3.7/dist-packages (from aiohttp!=4.0.0a0,!=4.0.0a1->fsspec[http]!=2021.06.0,>=2021.05.0->pytorch-lightning<1.7,>=1.5.4->pyannote.audio) (1.8.1)\n",
            "Requirement already satisfied: multidict<7.0,>=4.5 in /usr/local/lib/python3.7/dist-packages (from aiohttp!=4.0.0a0,!=4.0.0a1->fsspec[http]!=2021.06.0,>=2021.05.0->pytorch-lightning<1.7,>=1.5.4->pyannote.audio) (6.0.2)\n",
            "Requirement already satisfied: charset-normalizer<3.0,>=2.0 in /usr/local/lib/python3.7/dist-packages (from aiohttp!=4.0.0a0,!=4.0.0a1->fsspec[http]!=2021.06.0,>=2021.05.0->pytorch-lightning<1.7,>=1.5.4->pyannote.audio) (2.1.1)\n",
            "Requirement already satisfied: torchvision in /usr/local/lib/python3.7/dist-packages (from pytorch-metric-learning<2.0,>=1.0.0->pyannote.audio) (0.13.1+cu113)\n",
            "Requirement already satisfied: joblib>=0.11 in /usr/local/lib/python3.7/dist-packages (from scikit-learn>=0.16->hmmlearn<0.3,>=0.2.7->pyannote.audio) (1.2.0)\n",
            "Requirement already satisfied: threadpoolctl>=2.0.0 in /usr/local/lib/python3.7/dist-packages (from scikit-learn>=0.16->hmmlearn<0.3,>=0.2.7->pyannote.audio) (3.1.0)\n",
            "Requirement already satisfied: cffi>=1.0 in /usr/local/lib/python3.7/dist-packages (from soundfile<0.11,>=0.10.2->pyannote.audio) (1.15.1)\n",
            "Requirement already satisfied: pycparser in /usr/local/lib/python3.7/dist-packages (from cffi>=1.0->soundfile<0.11,>=0.10.2->pyannote.audio) (2.21)\n",
            "Collecting sentencepiece\n",
            "  Downloading sentencepiece-0.1.97-cp37-cp37m-manylinux_2_17_x86_64.manylinux2014_x86_64.whl (1.3 MB)\n",
            "\u001b[K     |████████████████████████████████| 1.3 MB 45.4 MB/s \n",
            "\u001b[?25hCollecting hyperpyyaml\n",
            "  Downloading HyperPyYAML-1.0.1.tar.gz (14 kB)\n",
            "Requirement already satisfied: greenlet!=0.4.17 in /usr/local/lib/python3.7/dist-packages (from sqlalchemy>=1.3.0->optuna>=1.4->pyannote.pipeline<3.0,>=2.3->pyannote.audio) (1.1.3)\n",
            "Requirement already satisfied: mpmath>=0.19 in /usr/local/lib/python3.7/dist-packages (from sympy>=1.1->pyannote.metrics<4.0,>=3.2->pyannote.audio) (1.2.1)\n",
            "Requirement already satisfied: setuptools>=41.0.0 in /usr/local/lib/python3.7/dist-packages (from tensorboard>=2.2.0->pytorch-lightning<1.7,>=1.5.4->pyannote.audio) (57.4.0)\n",
            "Requirement already satisfied: tensorboard-data-server<0.7.0,>=0.6.0 in /usr/local/lib/python3.7/dist-packages (from tensorboard>=2.2.0->pytorch-lightning<1.7,>=1.5.4->pyannote.audio) (0.6.1)\n",
            "Requirement already satisfied: werkzeug>=0.11.15 in /usr/local/lib/python3.7/dist-packages (from tensorboard>=2.2.0->pytorch-lightning<1.7,>=1.5.4->pyannote.audio) (1.0.1)\n",
            "Requirement already satisfied: google-auth<3,>=1.6.3 in /usr/local/lib/python3.7/dist-packages (from tensorboard>=2.2.0->pytorch-lightning<1.7,>=1.5.4->pyannote.audio) (1.35.0)\n",
            "Requirement already satisfied: tensorboard-plugin-wit>=1.6.0 in /usr/local/lib/python3.7/dist-packages (from tensorboard>=2.2.0->pytorch-lightning<1.7,>=1.5.4->pyannote.audio) (1.8.1)\n",
            "Requirement already satisfied: absl-py>=0.4 in /usr/local/lib/python3.7/dist-packages (from tensorboard>=2.2.0->pytorch-lightning<1.7,>=1.5.4->pyannote.audio) (1.2.0)\n",
            "Requirement already satisfied: google-auth-oauthlib<0.5,>=0.4.1 in /usr/local/lib/python3.7/dist-packages (from tensorboard>=2.2.0->pytorch-lightning<1.7,>=1.5.4->pyannote.audio) (0.4.6)\n",
            "Requirement already satisfied: grpcio>=1.24.3 in /usr/local/lib/python3.7/dist-packages (from tensorboard>=2.2.0->pytorch-lightning<1.7,>=1.5.4->pyannote.audio) (1.49.1)\n",
            "Requirement already satisfied: markdown>=2.6.8 in /usr/local/lib/python3.7/dist-packages (from tensorboard>=2.2.0->pytorch-lightning<1.7,>=1.5.4->pyannote.audio) (3.4.1)\n",
            "Requirement already satisfied: wheel>=0.26 in /usr/local/lib/python3.7/dist-packages (from tensorboard>=2.2.0->pytorch-lightning<1.7,>=1.5.4->pyannote.audio) (0.37.1)\n",
            "Requirement already satisfied: rsa<5,>=3.1.4 in /usr/local/lib/python3.7/dist-packages (from google-auth<3,>=1.6.3->tensorboard>=2.2.0->pytorch-lightning<1.7,>=1.5.4->pyannote.audio) (4.9)\n",
            "Requirement already satisfied: pyasn1-modules>=0.2.1 in /usr/local/lib/python3.7/dist-packages (from google-auth<3,>=1.6.3->tensorboard>=2.2.0->pytorch-lightning<1.7,>=1.5.4->pyannote.audio) (0.2.8)\n",
            "Requirement already satisfied: cachetools<5.0,>=2.0.0 in /usr/local/lib/python3.7/dist-packages (from google-auth<3,>=1.6.3->tensorboard>=2.2.0->pytorch-lightning<1.7,>=1.5.4->pyannote.audio) (4.2.4)\n",
            "Requirement already satisfied: requests-oauthlib>=0.7.0 in /usr/local/lib/python3.7/dist-packages (from google-auth-oauthlib<0.5,>=0.4.1->tensorboard>=2.2.0->pytorch-lightning<1.7,>=1.5.4->pyannote.audio) (1.3.1)\n",
            "Requirement already satisfied: pyasn1<0.5.0,>=0.4.6 in /usr/local/lib/python3.7/dist-packages (from pyasn1-modules>=0.2.1->google-auth<3,>=1.6.3->tensorboard>=2.2.0->pytorch-lightning<1.7,>=1.5.4->pyannote.audio) (0.4.8)\n",
            "Requirement already satisfied: chardet<4,>=3.0.2 in /usr/local/lib/python3.7/dist-packages (from requests->huggingface-hub<0.9,>=0.7->pyannote.audio) (3.0.4)\n",
            "Requirement already satisfied: urllib3!=1.25.0,!=1.25.1,<1.26,>=1.21.1 in /usr/local/lib/python3.7/dist-packages (from requests->huggingface-hub<0.9,>=0.7->pyannote.audio) (1.24.3)\n",
            "Requirement already satisfied: idna<3,>=2.5 in /usr/local/lib/python3.7/dist-packages (from requests->huggingface-hub<0.9,>=0.7->pyannote.audio) (2.10)\n",
            "Requirement already satisfied: certifi>=2017.4.17 in /usr/local/lib/python3.7/dist-packages (from requests->huggingface-hub<0.9,>=0.7->pyannote.audio) (2022.9.24)\n",
            "Requirement already satisfied: oauthlib>=3.0.0 in /usr/local/lib/python3.7/dist-packages (from requests-oauthlib>=0.7.0->google-auth-oauthlib<0.5,>=0.4.1->tensorboard>=2.2.0->pytorch-lightning<1.7,>=1.5.4->pyannote.audio) (3.2.1)\n",
            "Requirement already satisfied: librosa>=0.6.0 in /usr/local/lib/python3.7/dist-packages (from torch-audiomentations>=0.11.0->pyannote.audio) (0.8.1)\n",
            "Collecting torch-pitch-shift>=1.2.2\n",
            "  Downloading torch_pitch_shift-1.2.2-py3-none-any.whl (5.0 kB)\n",
            "Collecting julius<0.3,>=0.2.3\n",
            "  Downloading julius-0.2.7.tar.gz (59 kB)\n",
            "\u001b[K     |████████████████████████████████| 59 kB 6.1 MB/s \n",
            "\u001b[?25hRequirement already satisfied: decorator>=3.0.0 in /usr/local/lib/python3.7/dist-packages (from librosa>=0.6.0->torch-audiomentations>=0.11.0->pyannote.audio) (4.4.2)\n",
            "Requirement already satisfied: resampy>=0.2.2 in /usr/local/lib/python3.7/dist-packages (from librosa>=0.6.0->torch-audiomentations>=0.11.0->pyannote.audio) (0.4.2)\n",
            "Requirement already satisfied: pooch>=1.0 in /usr/local/lib/python3.7/dist-packages (from librosa>=0.6.0->torch-audiomentations>=0.11.0->pyannote.audio) (1.6.0)\n",
            "Requirement already satisfied: numba>=0.43.0 in /usr/local/lib/python3.7/dist-packages (from librosa>=0.6.0->torch-audiomentations>=0.11.0->pyannote.audio) (0.56.2)\n",
            "Requirement already satisfied: audioread>=2.0.0 in /usr/local/lib/python3.7/dist-packages (from librosa>=0.6.0->torch-audiomentations>=0.11.0->pyannote.audio) (3.0.0)\n",
            "Requirement already satisfied: llvmlite<0.40,>=0.39.0dev0 in /usr/local/lib/python3.7/dist-packages (from numba>=0.43.0->librosa>=0.6.0->torch-audiomentations>=0.11.0->pyannote.audio) (0.39.1)\n",
            "Requirement already satisfied: appdirs>=1.3.0 in /usr/local/lib/python3.7/dist-packages (from pooch>=1.0->librosa>=0.6.0->torch-audiomentations>=0.11.0->pyannote.audio) (1.4.4)\n",
            "Collecting primePy>=1.3\n",
            "  Downloading primePy-1.3-py3-none-any.whl (4.0 kB)\n",
            "Requirement already satisfied: click<9.0.0,>=7.1.1 in /usr/local/lib/python3.7/dist-packages (from typer[all]>=0.2.1->pyannote.database<5.0,>=4.1.1->pyannote.audio) (7.1.2)\n",
            "Collecting colorama<0.5.0,>=0.4.3\n",
            "  Downloading colorama-0.4.5-py2.py3-none-any.whl (16 kB)\n",
            "Collecting shellingham<2.0.0,>=1.3.0\n",
            "  Downloading shellingham-1.5.0-py2.py3-none-any.whl (9.3 kB)\n",
            "Collecting stevedore>=2.0.1\n",
            "  Downloading stevedore-3.5.0-py3-none-any.whl (49 kB)\n",
            "\u001b[K     |████████████████████████████████| 49 kB 7.3 MB/s \n",
            "\u001b[?25hCollecting pbr!=2.1.0,>=2.0.0\n",
            "  Downloading pbr-5.10.0-py2.py3-none-any.whl (112 kB)\n",
            "\u001b[K     |████████████████████████████████| 112 kB 74.6 MB/s \n",
            "\u001b[?25hCollecting cmd2>=1.0.0\n",
            "  Downloading cmd2-2.4.2-py3-none-any.whl (147 kB)\n",
            "\u001b[K     |████████████████████████████████| 147 kB 63.3 MB/s \n",
            "\u001b[?25hCollecting autopage>=0.4.0\n",
            "  Downloading autopage-0.5.1-py3-none-any.whl (29 kB)\n",
            "Requirement already satisfied: PrettyTable>=0.7.2 in /usr/local/lib/python3.7/dist-packages (from cliff->optuna>=1.4->pyannote.pipeline<3.0,>=2.3->pyannote.audio) (3.4.1)\n",
            "Requirement already satisfied: wcwidth>=0.1.7 in /usr/local/lib/python3.7/dist-packages (from cmd2>=1.0.0->cliff->optuna>=1.4->pyannote.pipeline<3.0,>=2.3->pyannote.audio) (0.2.5)\n",
            "Collecting pyperclip>=1.6\n",
            "  Downloading pyperclip-1.8.2.tar.gz (20 kB)\n",
            "Collecting ruamel.yaml>=0.17.8\n",
            "  Downloading ruamel.yaml-0.17.21-py3-none-any.whl (109 kB)\n",
            "\u001b[K     |████████████████████████████████| 109 kB 70.9 MB/s \n",
            "\u001b[?25hCollecting ruamel.yaml.clib>=0.2.6\n",
            "  Downloading ruamel.yaml.clib-0.2.6-cp37-cp37m-manylinux1_x86_64.whl (546 kB)\n",
            "\u001b[K     |████████████████████████████████| 546 kB 59.8 MB/s \n",
            "\u001b[?25hRequirement already satisfied: MarkupSafe>=0.9.2 in /usr/local/lib/python3.7/dist-packages (from Mako->alembic>=1.5.0->optuna>=1.4->pyannote.pipeline<3.0,>=2.3->pyannote.audio) (2.0.1)\n",
            "Requirement already satisfied: pillow!=8.3.*,>=5.3.0 in /usr/local/lib/python3.7/dist-packages (from torchvision->pytorch-metric-learning<2.0,>=1.0.0->pyannote.audio) (7.1.2)\n",
            "Building wheels for collected packages: antlr4-python3-runtime, docopt, julius, pyperclip, hyperpyyaml\n",
            "  Building wheel for antlr4-python3-runtime (setup.py) ... \u001b[?25l\u001b[?25hdone\n",
            "  Created wheel for antlr4-python3-runtime: filename=antlr4_python3_runtime-4.9.3-py3-none-any.whl size=144575 sha256=e7e3581a6975328ac6349ee7ca394efa4ab5de89eaf7d156febbd3852ee9f5a9\n",
            "  Stored in directory: /root/.cache/pip/wheels/8b/8d/53/2af8772d9aec614e3fc65e53d4a993ad73c61daa8bbd85a873\n",
            "  Building wheel for docopt (setup.py) ... \u001b[?25l\u001b[?25hdone\n",
            "  Created wheel for docopt: filename=docopt-0.6.2-py2.py3-none-any.whl size=13723 sha256=50e04f7d744d89bb271ee40399345ea7fddf39c462d0db05456f95f7031459c7\n",
            "  Stored in directory: /root/.cache/pip/wheels/72/b0/3f/1d95f96ff986c7dfffe46ce2be4062f38ebd04b506c77c81b9\n",
            "  Building wheel for julius (setup.py) ... \u001b[?25l\u001b[?25hdone\n",
            "  Created wheel for julius: filename=julius-0.2.7-py3-none-any.whl size=21894 sha256=100073a66e83972c2496ad035c8fca399f733ff06edbd9813882409862f9d788\n",
            "  Stored in directory: /root/.cache/pip/wheels/44/52/2c/7dd069f82c7f905f40b190a8039ec2a17fdd4bb009c57c6664\n",
            "  Building wheel for pyperclip (setup.py) ... \u001b[?25l\u001b[?25hdone\n",
            "  Created wheel for pyperclip: filename=pyperclip-1.8.2-py3-none-any.whl size=11137 sha256=449d044e6613042e8af7e0194266161c2ad43209ca5ca112b1fe7849b4aab1de\n",
            "  Stored in directory: /root/.cache/pip/wheels/9f/18/84/8f69f8b08169c7bae2dde6bd7daf0c19fca8c8e500ee620a28\n",
            "  Building wheel for hyperpyyaml (setup.py) ... \u001b[?25l\u001b[?25hdone\n",
            "  Created wheel for hyperpyyaml: filename=HyperPyYAML-1.0.1-py3-none-any.whl size=15192 sha256=68f45a0d6c96cfc2450bb743e8c823fc574ef231b5b08b5292cc7dd3d8e452d0\n",
            "  Stored in directory: /root/.cache/pip/wheels/6c/87/65/266d722c3932f81f16332ce842e972be8421e3a9cd3771766b\n",
            "Successfully built antlr4-python3-runtime docopt julius pyperclip hyperpyyaml\n",
            "Installing collected packages: pyperclip, pbr, importlib-metadata, stevedore, simplejson, shellingham, ruamel.yaml.clib, Mako, colorama, cmd2, autopage, soundfile, ruamel.yaml, pyannote.core, primePy, colorlog, cmaes, cliff, alembic, torchmetrics, torch-pitch-shift, sentencepiece, pyDeprecate, pyannote.database, optuna, julius, hyperpyyaml, huggingface-hub, docopt, antlr4-python3-runtime, torch-audiomentations, speechbrain, singledispatchmethod, semver, pytorch-metric-learning, pytorch-lightning, pyannote.pipeline, pyannote.metrics, omegaconf, hmmlearn, einops, backports.cached-property, asteroid-filterbanks, pyannote.audio\n",
            "  Attempting uninstall: importlib-metadata\n",
            "    Found existing installation: importlib-metadata 5.0.0\n",
            "    Uninstalling importlib-metadata-5.0.0:\n",
            "      Successfully uninstalled importlib-metadata-5.0.0\n",
            "  Attempting uninstall: soundfile\n",
            "    Found existing installation: soundfile 0.11.0\n",
            "    Uninstalling soundfile-0.11.0:\n",
            "      Successfully uninstalled soundfile-0.11.0\n",
            "Successfully installed Mako-1.2.3 alembic-1.8.1 antlr4-python3-runtime-4.9.3 asteroid-filterbanks-0.4.0 autopage-0.5.1 backports.cached-property-1.0.2 cliff-3.10.1 cmaes-0.8.2 cmd2-2.4.2 colorama-0.4.5 colorlog-6.7.0 docopt-0.6.2 einops-0.3.2 hmmlearn-0.2.8 huggingface-hub-0.8.1 hyperpyyaml-1.0.1 importlib-metadata-4.13.0 julius-0.2.7 omegaconf-2.2.3 optuna-3.0.3 pbr-5.10.0 primePy-1.3 pyDeprecate-0.3.2 pyannote.audio-2.0.1 pyannote.core-4.5 pyannote.database-4.1.3 pyannote.metrics-3.2.1 pyannote.pipeline-2.3 pyperclip-1.8.2 pytorch-lightning-1.6.5 pytorch-metric-learning-1.6.2 ruamel.yaml-0.17.21 ruamel.yaml.clib-0.2.6 semver-2.13.0 sentencepiece-0.1.97 shellingham-1.5.0 simplejson-3.17.6 singledispatchmethod-1.0 soundfile-0.10.3.post1 speechbrain-0.5.13 stevedore-3.5.0 torch-audiomentations-0.11.0 torch-pitch-shift-1.2.2 torchmetrics-0.10.0\n"
          ]
        },
        {
          "output_type": "display_data",
          "data": {
            "application/vnd.colab-display-data+json": {
              "pip_warning": {
                "packages": [
                  "pydevd_plugins"
                ]
              }
            }
          },
          "metadata": {}
        }
      ],
      "source": [
        "!pip install   pyannote.audio"
      ]
    },
    {
      "cell_type": "code",
      "execution_count": null,
      "metadata": {
        "colab": {
          "base_uri": "https://localhost:8080/",
          "height": 273,
          "referenced_widgets": [
            "546a16efa53e462f88890ebe3977a3bc",
            "1f7c6499be4846e1bc674761f3b875f2",
            "268c730678bb4af6baf7bb4f185ddb1e",
            "350678a2f548480b9d6acceda5d78949",
            "8f9cafa27efc43c4bb3f566f87df523c",
            "e4802c94ccaf404180f3760e3b859a3a",
            "71d0b4b532e649829bc813d0f09b2c3b",
            "5fb9f7acb4c7491a986f6d674f467028",
            "40efa9c5b79e40cab21dcdcf98533caa",
            "766c1a1b8c1248e79dfa03ec89dbc4dd",
            "15e62f4a65104bdea233a96c4dbb6db8",
            "327bebaf45eb46b289615c8deb29a69d",
            "a6919e4b1e2c4510958bf343ef2524a8",
            "309cc6bf3b1e41b1a558fbdb3745c301",
            "ec474373198046d299e09b4823a2766d",
            "88186bbd5a1c4425b254d608ca85cd8a",
            "458d4d31cd87402c97c4038553c06574",
            "d6d8814501a34ef391c565ba4748e365",
            "a9a5de2de75643048ba821d73a00d5c7",
            "51422049fa5846bb9e009b530f0a7526",
            "ae3785b55e8c4b7e963dc357fb255f05",
            "7e8227f2dac34d83a3c670e4d4e0a249",
            "fe9e7728c09946c5908d7502c3f77432",
            "b67a926cc4904c2f84efd509098e103c",
            "fd98d75dc2424c2faecfb4b5f6a94aa2",
            "187e2d909bfc4a41b2502b964a03fcad",
            "bf18adc120174a8bb6cd6f09d853911f",
            "0c4de4008c2e45e5a31d21cdb954f0f2",
            "28ef8f3ac2e44445ac9e40d140e513d3",
            "d137a72df0a849a8913fd62924c1848a",
            "105cf78a882a4cc3bbdaaa2b80217110",
            "b2791832f51f4794acfdbded875bc9b5",
            "28c4d707b0764f51ba2d06eeed5dad96",
            "0b616fa3a46a4502b14f93270fcb1ca7",
            "fd8fd5f045414ab199d3f37c9397ad54",
            "9652595d01cc478c952a368a1f86940d",
            "3a648dda02c9485e8e975e7a1ad2c27e",
            "eb2e878c6f0d413b9e82b93b6057e66f",
            "a6df649cf752475c9540bf1ba2fc7199",
            "e491634079f44e65a6edb5d799a2b74e",
            "c9389e064ac54435a3fd356b13b86f4e",
            "098d718a941542b99b772068e442e9fa",
            "4a1e581661b84dc6b9c52c1c6efa006b",
            "3d1b76d21f6349ccbeefd795974321f7",
            "bbacac6c5aff4686a31130560e9cf86b",
            "ade8c72f0eb64de58c4a1351c0b5cdbd",
            "ea54cd59edc64f95958f62a9b6e182c9",
            "5a1b7cd142e94f22a9abc9e64b11d633",
            "9403474d6e774f4dbb36c843620ba666",
            "68eb916bf9494da6a1740e404da1c602",
            "1c72713c82fa4ab89cb8fbe84089828f",
            "a730cdaad4e24736b872723240a094dd",
            "a0b10ced5ddc47b5867d864bcc786e0e",
            "7c74e70870304e83826f2a322341a000",
            "5a98ade616cd441da36ed51b85f4b61c",
            "36ecee3e086a4a34bd6f6fe435b20a6e",
            "f638d0f51ac548e8a36a0b8858082e29",
            "41359dbbceea458b9137b8cb8fb2e7e1",
            "a9b8f75e82274a4e8cfa1026fe8408de",
            "b71b33109b124e30b0004634467e64dc",
            "32792ea893a140dab321565df126e461",
            "e9b04004efb944c6ad7d53763d426626",
            "5d5fa4a478844c798c91a274361cda2b",
            "323bd202a5a540b4b8805b88138468ad",
            "0831e94760fa421384e2b33c97532d09",
            "b7073c903e1e4701b68516dc8a867fc1",
            "28e3b80e86634a32aaef5b67345c217c",
            "3a1c92eec125401ca3184d713b27f4a5",
            "500472e00812437390d5caf9bc0ee67b",
            "41aa0f5eaddd4907802992b380e85ded",
            "030169a7a2594b5a8646f327a0566dfe",
            "55d89d284453466c8013f2a884d55426",
            "47506b0858534c6ebc53e8e500ef56b6",
            "feaf363bb8c548fcae1cd13fd1074581",
            "fc80e8542e34422b86874eee0b20b3f8",
            "b8cdfacd7bee4c398fc513ed2a3311e3",
            "85c433e956794588b166c9ed6fa68c20",
            "36c91974947c4bf7aef8585de061a5a7",
            "a7d1f042f6124c51aa69ac6985e7c83c",
            "3fbcb6d197ab4c44930a2e15e439459b",
            "6b7194d233cd47428f58bf987f9712fe",
            "135ef8a71e4041ad80129cc5dbc51354",
            "5d46ef19e68c4974a5001a48121047f3",
            "65b31b2e94b04dd39298f004f9493e29",
            "e73e393e01f4487d86dfbe5e401b4c09",
            "a93270536a094ed694b825ea38aa36a2",
            "dbbb60965fb24cd9b2dc1ea510e7e480",
            "d06a71fe937b4ee1a44764f020bf3d57"
          ]
        },
        "id": "jKG14DGYbwku",
        "outputId": "799c6a8b-16b1-49a7-b87a-ad6d340cf375"
      },
      "outputs": [
        {
          "output_type": "display_data",
          "data": {
            "text/plain": [
              "Downloading:   0%|          | 0.00/598 [00:00<?, ?B/s]"
            ],
            "application/vnd.jupyter.widget-view+json": {
              "version_major": 2,
              "version_minor": 0,
              "model_id": "546a16efa53e462f88890ebe3977a3bc"
            }
          },
          "metadata": {}
        },
        {
          "output_type": "display_data",
          "data": {
            "text/plain": [
              "Downloading:   0%|          | 0.00/17.7M [00:00<?, ?B/s]"
            ],
            "application/vnd.jupyter.widget-view+json": {
              "version_major": 2,
              "version_minor": 0,
              "model_id": "327bebaf45eb46b289615c8deb29a69d"
            }
          },
          "metadata": {}
        },
        {
          "output_type": "display_data",
          "data": {
            "text/plain": [
              "Downloading:   0%|          | 0.00/318 [00:00<?, ?B/s]"
            ],
            "application/vnd.jupyter.widget-view+json": {
              "version_major": 2,
              "version_minor": 0,
              "model_id": "fe9e7728c09946c5908d7502c3f77432"
            }
          },
          "metadata": {}
        },
        {
          "output_type": "display_data",
          "data": {
            "text/plain": [
              "Downloading:   0%|          | 0.00/1.92k [00:00<?, ?B/s]"
            ],
            "application/vnd.jupyter.widget-view+json": {
              "version_major": 2,
              "version_minor": 0,
              "model_id": "0b616fa3a46a4502b14f93270fcb1ca7"
            }
          },
          "metadata": {}
        },
        {
          "output_type": "display_data",
          "data": {
            "text/plain": [
              "Downloading:   0%|          | 0.00/83.3M [00:00<?, ?B/s]"
            ],
            "application/vnd.jupyter.widget-view+json": {
              "version_major": 2,
              "version_minor": 0,
              "model_id": "bbacac6c5aff4686a31130560e9cf86b"
            }
          },
          "metadata": {}
        },
        {
          "output_type": "display_data",
          "data": {
            "text/plain": [
              "Downloading:   0%|          | 0.00/1.92k [00:00<?, ?B/s]"
            ],
            "application/vnd.jupyter.widget-view+json": {
              "version_major": 2,
              "version_minor": 0,
              "model_id": "36ecee3e086a4a34bd6f6fe435b20a6e"
            }
          },
          "metadata": {}
        },
        {
          "output_type": "display_data",
          "data": {
            "text/plain": [
              "Downloading:   0%|          | 0.00/5.53M [00:00<?, ?B/s]"
            ],
            "application/vnd.jupyter.widget-view+json": {
              "version_major": 2,
              "version_minor": 0,
              "model_id": "28e3b80e86634a32aaef5b67345c217c"
            }
          },
          "metadata": {}
        },
        {
          "output_type": "display_data",
          "data": {
            "text/plain": [
              "Downloading:   0%|          | 0.00/129k [00:00<?, ?B/s]"
            ],
            "application/vnd.jupyter.widget-view+json": {
              "version_major": 2,
              "version_minor": 0,
              "model_id": "36c91974947c4bf7aef8585de061a5a7"
            }
          },
          "metadata": {}
        }
      ],
      "source": [
        "from pyannote.audio import Pipeline\n",
        "\n",
        "pipeline = Pipeline.from_pretrained('pyannote/speaker-diarization')"
      ]
    },
    {
      "cell_type": "code",
      "execution_count": null,
      "metadata": {
        "id": "yA4xiEefft9Z"
      },
      "outputs": [],
      "source": [
        "DEMO_FILE = {'uri': 'blabal', 'audio': 'audio.wav'}\n",
        "dz = pipeline(DEMO_FILE)  \n",
        "\n",
        "with open(\"diarization.txt\", \"w\") as text_file:\n",
        "    text_file.write(str(dz))"
      ]
    },
    {
      "cell_type": "code",
      "source": [
        "print(*list(dz.itertracks(yield_label = True))[:10], sep=\"\\n\")"
      ],
      "metadata": {
        "colab": {
          "base_uri": "https://localhost:8080/"
        },
        "id": "GHIY2MB3Vz3e",
        "outputId": "11faa3bf-cd94-4753-dffb-1be3c061f8b4"
      },
      "execution_count": null,
      "outputs": [
        {
          "output_type": "stream",
          "name": "stdout",
          "text": [
            "(<Segment(2.03344, 36.8128)>, 0, 'SPEAKER_00')\n",
            "(<Segment(38.1122, 51.3759)>, 0, 'SPEAKER_00')\n",
            "(<Segment(51.8653, 90.2053)>, 1, 'SPEAKER_01')\n",
            "(<Segment(91.2853, 92.9391)>, 1, 'SPEAKER_01')\n",
            "(<Segment(94.8628, 116.497)>, 0, 'SPEAKER_00')\n",
            "(<Segment(116.497, 124.124)>, 1, 'SPEAKER_01')\n",
            "(<Segment(124.192, 151.597)>, 1, 'SPEAKER_01')\n",
            "(<Segment(152.018, 179.12)>, 1, 'SPEAKER_01')\n",
            "(<Segment(180.318, 194.037)>, 1, 'SPEAKER_01')\n",
            "(<Segment(195.016, 207.385)>, 0, 'SPEAKER_00')\n"
          ]
        }
      ]
    },
    {
      "cell_type": "code",
      "source": [
        "def millisec(timeStr):\n",
        "  spl = timeStr.split(\":\")\n",
        "  s = (int)((int(spl[0]) * 60 * 60 + int(spl[1]) * 60 + float(spl[2]) )* 1000)\n",
        "  return s"
      ],
      "metadata": {
        "id": "KPGOaVpOH7pZ"
      },
      "execution_count": null,
      "outputs": []
    },
    {
      "cell_type": "code",
      "source": [
        "import re\n",
        "dz = open('diarization.txt').read().splitlines()\n",
        "dzList = []\n",
        "for l in dz:\n",
        "  start, end =  tuple(re.findall('[0-9]+:[0-9]+:[0-9]+\\.[0-9]+', string=l))\n",
        "  start = millisec(start) - spacermilli\n",
        "  end = millisec(end)  - spacermilli\n",
        "  lex = not re.findall('SPEAKER_01', string=l)\n",
        "  dzList.append([start, end, lex])\n",
        "\n",
        "print(*dzList[:10], sep='\\n')"
      ],
      "metadata": {
        "colab": {
          "base_uri": "https://localhost:8080/"
        },
        "id": "5uIUo68M0g7j",
        "outputId": "b957f4eb-9c00-45e9-a738-c5f3a37f6539"
      },
      "execution_count": null,
      "outputs": [
        {
          "output_type": "stream",
          "name": "stdout",
          "text": [
            "[33, 34812, True]\n",
            "[36112, 49375, True]\n",
            "[49865, 88205, False]\n",
            "[89285, 90939, False]\n",
            "[92862, 114496, True]\n",
            "[114496, 122124, False]\n",
            "[122191, 149596, False]\n",
            "[150018, 177119, False]\n",
            "[178317, 192037, False]\n",
            "[193015, 205385, True]\n"
          ]
        }
      ]
    },
    {
      "cell_type": "code",
      "source": [],
      "metadata": {
        "id": "mWu-X6_KZlaO"
      },
      "execution_count": null,
      "outputs": []
    },
    {
      "cell_type": "code",
      "source": [],
      "metadata": {
        "id": "kWW9rLzXZoX8"
      },
      "execution_count": null,
      "outputs": []
    },
    {
      "cell_type": "markdown",
      "source": [
        "# Preparing audio file from the diarization"
      ],
      "metadata": {
        "id": "Wp36eMedRkR0"
      }
    },
    {
      "cell_type": "markdown",
      "source": [
        "Attaching audio segements according to the diarization, with a spacer as the delimiter."
      ],
      "metadata": {
        "id": "VEEuVPj6H0J_"
      }
    },
    {
      "cell_type": "code",
      "source": [
        "from pydub import AudioSegment\n",
        "import re \n",
        "\n",
        "sounds = spacer\n",
        "segments = []\n",
        "\n",
        "dz = open('diarization.txt').read().splitlines()\n",
        "for l in dz:\n",
        "  start, end =  tuple(re.findall('[0-9]+:[0-9]+:[0-9]+\\.[0-9]+', string=l))\n",
        "  start = int(millisec(start)) #milliseconds\n",
        "  end = int(millisec(end))  #milliseconds\n",
        "  \n",
        "  segments.append(len(sounds))\n",
        "  sounds = sounds.append(audio[start:end], crossfade=0)\n",
        "  sounds = sounds.append(spacer, crossfade=0)\n",
        "\n",
        "sounds.export(\"dz.wav\", format=\"wav\") #Exports to a wav file in the current path."
      ],
      "metadata": {
        "colab": {
          "base_uri": "https://localhost:8080/"
        },
        "id": "pQqlyfY4Ciqh",
        "outputId": "323d3a88-a803-4bdf-b64d-d28d54be6349"
      },
      "execution_count": null,
      "outputs": [
        {
          "output_type": "execute_result",
          "data": {
            "text/plain": [
              "<_io.BufferedRandom name='dz.wav'>"
            ]
          },
          "metadata": {},
          "execution_count": 23
        }
      ]
    },
    {
      "cell_type": "code",
      "source": [
        "segments[:8]"
      ],
      "metadata": {
        "colab": {
          "base_uri": "https://localhost:8080/"
        },
        "id": "cacmB1ggm51s",
        "outputId": "4ac0d27a-d215-4ba6-8704-7cdfa4416412"
      },
      "execution_count": null,
      "outputs": [
        {
          "output_type": "execute_result",
          "data": {
            "text/plain": [
              "[2000, 38779, 54042, 94382, 98036, 121670, 131297, 160702]"
            ]
          },
          "metadata": {},
          "execution_count": 24
        }
      ]
    },
    {
      "cell_type": "markdown",
      "source": [
        "Freeing up some memory"
      ],
      "metadata": {
        "id": "rv2GYZCsLKBJ"
      }
    },
    {
      "cell_type": "code",
      "source": [
        "del   sounds, DEMO_FILE, pipeline, spacer,  audio, dz, a, newAudio"
      ],
      "metadata": {
        "id": "cONumKWUjfus"
      },
      "execution_count": null,
      "outputs": []
    },
    {
      "cell_type": "markdown",
      "source": [
        "# **Youtube Videos Transcription with OpenAI's Whisper**\n",
        "\n",
        "[![blog post shield](https://img.shields.io/static/v1?label=&message=Blog%20post&color=blue&style=for-the-badge&logo=openai&link=https://openai.com/blog/whisper)](https://openai.com/blog/whisper)\n",
        "[![notebook shield](https://img.shields.io/static/v1?label=&message=Notebook&color=blue&style=for-the-badge&logo=googlecolab&link=https://colab.research.google.com/github/ArthurFDLR/whisper-youtube/blob/main/whisper_youtube.ipynb)](https://colab.research.google.com/github/ArthurFDLR/whisper-youtube/blob/main/whisper_youtube.ipynb)\n",
        "[![repository shield](https://img.shields.io/static/v1?label=&message=Repository&color=blue&style=for-the-badge&logo=github&link=https://github.com/openai/whisper)](https://github.com/openai/whisper)\n",
        "[![paper shield](https://img.shields.io/static/v1?label=&message=Paper&color=blue&style=for-the-badge&link=https://cdn.openai.com/papers/whisper.pdf)](https://cdn.openai.com/papers/whisper.pdf)\n",
        "[![model card shield](https://img.shields.io/static/v1?label=&message=Model%20card&color=blue&style=for-the-badge&link=https://github.com/openai/whisper/blob/main/model-card.md)](https://github.com/openai/whisper/blob/main/model-card.md)\n",
        "\n",
        "Whisper is a general-purpose speech recognition model. It is trained on a large dataset of diverse audio and is also a multi-task model that can perform multilingual speech recognition as well as speech translation and language identification.\n",
        "\n",
        "This Notebook will guide you through the transcription of a Youtube video using Whisper. You'll be able to explore most inference parameters or use the Notebook as-is to store the transcript and video audio in your Google Drive."
      ],
      "metadata": {
        "id": "96kvih9mXkNN"
      }
    },
    {
      "cell_type": "code",
      "source": [
        "#@markdown # **Check GPU type** 🕵️\n",
        "\n",
        "#@markdown The type of GPU you get assigned in your Colab session defined the speed at which the video will be transcribed.\n",
        "#@markdown The higher the number of floating point operations per second (FLOPS), the faster the transcription.\n",
        "#@markdown But even the least powerful GPU available in Colab is able to run any Whisper model.\n",
        "#@markdown Make sure you've selected `GPU` as hardware accelerator for the Notebook (Runtime &rarr; Change runtime type &rarr; Hardware accelerator).\n",
        "\n",
        "#@markdown |  GPU   |  GPU RAM   | FP32 teraFLOPS |     Availability   |\n",
        "#@markdown |:------:|:----------:|:--------------:|:------------------:|\n",
        "#@markdown |  T4    |    16 GB   |       8.1      |         Free       |\n",
        "#@markdown | P100   |    16 GB   |      10.6      |      Colab Pro     |\n",
        "#@markdown | V100   |    16 GB   |      15.7      |  Colab Pro (Rare)  |\n",
        "\n",
        "#@markdown ---\n",
        "#@markdown **Factory reset your Notebook's runtime if you want to get assigned a new GPU.**\n",
        "\n",
        "!nvidia-smi -L\n",
        "\n",
        "!nvidia-smi"
      ],
      "metadata": {
        "cellView": "form",
        "id": "QshUbLqpX7L4",
        "outputId": "9b2394ae-d2bc-4933-9898-9de6ee819292",
        "colab": {
          "base_uri": "https://localhost:8080/"
        }
      },
      "execution_count": 1,
      "outputs": [
        {
          "output_type": "stream",
          "name": "stdout",
          "text": [
            "GPU 0: Tesla T4 (UUID: GPU-28cd93ac-d636-8b6d-11bc-3c065fc24c0a)\n",
            "Mon Dec 12 13:04:17 2022       \n",
            "+-----------------------------------------------------------------------------+\n",
            "| NVIDIA-SMI 460.32.03    Driver Version: 460.32.03    CUDA Version: 11.2     |\n",
            "|-------------------------------+----------------------+----------------------+\n",
            "| GPU  Name        Persistence-M| Bus-Id        Disp.A | Volatile Uncorr. ECC |\n",
            "| Fan  Temp  Perf  Pwr:Usage/Cap|         Memory-Usage | GPU-Util  Compute M. |\n",
            "|                               |                      |               MIG M. |\n",
            "|===============================+======================+======================|\n",
            "|   0  Tesla T4            Off  | 00000000:00:04.0 Off |                    0 |\n",
            "| N/A   63C    P0    28W /  70W |      0MiB / 15109MiB |      0%      Default |\n",
            "|                               |                      |                  N/A |\n",
            "+-------------------------------+----------------------+----------------------+\n",
            "                                                                               \n",
            "+-----------------------------------------------------------------------------+\n",
            "| Processes:                                                                  |\n",
            "|  GPU   GI   CI        PID   Type   Process name                  GPU Memory |\n",
            "|        ID   ID                                                   Usage      |\n",
            "|=============================================================================|\n",
            "|  No running processes found                                                 |\n",
            "+-----------------------------------------------------------------------------+\n"
          ]
        }
      ]
    },
    {
      "cell_type": "code",
      "execution_count": 2,
      "metadata": {
        "id": "IfG0E_WbRFI0",
        "cellView": "form",
        "outputId": "557bc4ef-e289-4b61-ecdd-57822849d451",
        "colab": {
          "base_uri": "https://localhost:8080/"
        }
      },
      "outputs": [
        {
          "output_type": "stream",
          "name": "stdout",
          "text": [
            "Looking in indexes: https://pypi.org/simple, https://us-python.pkg.dev/colab-wheels/public/simple/\n",
            "Collecting git+https://github.com/openai/whisper.git\n",
            "  Cloning https://github.com/openai/whisper.git to /tmp/pip-req-build-pe6tubv5\n",
            "  Running command git clone -q https://github.com/openai/whisper.git /tmp/pip-req-build-pe6tubv5\n",
            "Requirement already satisfied: numpy in /usr/local/lib/python3.8/dist-packages (from whisper==1.0) (1.21.6)\n",
            "Requirement already satisfied: torch in /usr/local/lib/python3.8/dist-packages (from whisper==1.0) (1.13.0+cu116)\n",
            "Requirement already satisfied: tqdm in /usr/local/lib/python3.8/dist-packages (from whisper==1.0) (4.64.1)\n",
            "Requirement already satisfied: more-itertools in /usr/local/lib/python3.8/dist-packages (from whisper==1.0) (9.0.0)\n",
            "Collecting transformers>=4.19.0\n",
            "  Downloading transformers-4.25.1-py3-none-any.whl (5.8 MB)\n",
            "\u001b[K     |████████████████████████████████| 5.8 MB 11.3 MB/s \n",
            "\u001b[?25hCollecting ffmpeg-python==0.2.0\n",
            "  Downloading ffmpeg_python-0.2.0-py3-none-any.whl (25 kB)\n",
            "Requirement already satisfied: future in /usr/local/lib/python3.8/dist-packages (from ffmpeg-python==0.2.0->whisper==1.0) (0.16.0)\n",
            "Requirement already satisfied: packaging>=20.0 in /usr/local/lib/python3.8/dist-packages (from transformers>=4.19.0->whisper==1.0) (21.3)\n",
            "Requirement already satisfied: pyyaml>=5.1 in /usr/local/lib/python3.8/dist-packages (from transformers>=4.19.0->whisper==1.0) (6.0)\n",
            "Collecting huggingface-hub<1.0,>=0.10.0\n",
            "  Downloading huggingface_hub-0.11.1-py3-none-any.whl (182 kB)\n",
            "\u001b[K     |████████████████████████████████| 182 kB 60.8 MB/s \n",
            "\u001b[?25hRequirement already satisfied: filelock in /usr/local/lib/python3.8/dist-packages (from transformers>=4.19.0->whisper==1.0) (3.8.0)\n",
            "Requirement already satisfied: requests in /usr/local/lib/python3.8/dist-packages (from transformers>=4.19.0->whisper==1.0) (2.23.0)\n",
            "Requirement already satisfied: regex!=2019.12.17 in /usr/local/lib/python3.8/dist-packages (from transformers>=4.19.0->whisper==1.0) (2022.6.2)\n",
            "Collecting tokenizers!=0.11.3,<0.14,>=0.11.1\n",
            "  Downloading tokenizers-0.13.2-cp38-cp38-manylinux_2_17_x86_64.manylinux2014_x86_64.whl (7.6 MB)\n",
            "\u001b[K     |████████████████████████████████| 7.6 MB 13.7 MB/s \n",
            "\u001b[?25hRequirement already satisfied: typing-extensions>=3.7.4.3 in /usr/local/lib/python3.8/dist-packages (from huggingface-hub<1.0,>=0.10.0->transformers>=4.19.0->whisper==1.0) (4.4.0)\n",
            "Requirement already satisfied: pyparsing!=3.0.5,>=2.0.2 in /usr/local/lib/python3.8/dist-packages (from packaging>=20.0->transformers>=4.19.0->whisper==1.0) (3.0.9)\n",
            "Requirement already satisfied: certifi>=2017.4.17 in /usr/local/lib/python3.8/dist-packages (from requests->transformers>=4.19.0->whisper==1.0) (2022.9.24)\n",
            "Requirement already satisfied: chardet<4,>=3.0.2 in /usr/local/lib/python3.8/dist-packages (from requests->transformers>=4.19.0->whisper==1.0) (3.0.4)\n",
            "Requirement already satisfied: idna<3,>=2.5 in /usr/local/lib/python3.8/dist-packages (from requests->transformers>=4.19.0->whisper==1.0) (2.10)\n",
            "Requirement already satisfied: urllib3!=1.25.0,!=1.25.1,<1.26,>=1.21.1 in /usr/local/lib/python3.8/dist-packages (from requests->transformers>=4.19.0->whisper==1.0) (1.24.3)\n",
            "Building wheels for collected packages: whisper\n",
            "  Building wheel for whisper (setup.py) ... \u001b[?25l\u001b[?25hdone\n",
            "  Created wheel for whisper: filename=whisper-1.0-py3-none-any.whl size=1175324 sha256=53f9130988698a21a7af9cfb0c503acc73de43188bf24bed40ed5062af271dd5\n",
            "  Stored in directory: /tmp/pip-ephem-wheel-cache-tg06j3h4/wheels/a7/70/18/b7693c07b1d18b3dafb328f5d0496aa0d41a9c09ef332fd8e6\n",
            "Successfully built whisper\n",
            "Installing collected packages: tokenizers, huggingface-hub, transformers, ffmpeg-python, whisper\n",
            "Successfully installed ffmpeg-python-0.2.0 huggingface-hub-0.11.1 tokenizers-0.13.2 transformers-4.25.1 whisper-1.0\n",
            "Looking in indexes: https://pypi.org/simple, https://us-python.pkg.dev/colab-wheels/public/simple/\n",
            "Collecting pytube\n",
            "  Downloading pytube-12.1.0-py3-none-any.whl (56 kB)\n",
            "\u001b[K     |████████████████████████████████| 56 kB 4.5 MB/s \n",
            "\u001b[?25hInstalling collected packages: pytube\n",
            "Successfully installed pytube-12.1.0\n"
          ]
        },
        {
          "output_type": "stream",
          "name": "stderr",
          "text": [
            "Using device: cuda:0\n"
          ]
        }
      ],
      "source": [
        "#@markdown # **Install libraries** 🏗️\n",
        "#@markdown This cell will take a little while to download several libraries, including Whisper.\n",
        "\n",
        "#@markdown ---\n",
        "\n",
        "! pip install git+https://github.com/openai/whisper.git\n",
        "! pip install pytube\n",
        "\n",
        "import sys\n",
        "import warnings\n",
        "import whisper\n",
        "from pathlib import Path\n",
        "import pytube\n",
        "import subprocess\n",
        "import torch\n",
        "import shutil\n",
        "import numpy as np\n",
        "from IPython.display import display, Markdown, YouTubeVideo\n",
        "\n",
        "device = torch.device('cuda:0')\n",
        "print('Using device:', device, file=sys.stderr)"
      ]
    },
    {
      "cell_type": "code",
      "execution_count": 3,
      "metadata": {
        "id": "1zwGAsr4sIgd",
        "cellView": "form",
        "outputId": "3c65ba11-4c70-4600-8e48-805b5a13daed",
        "colab": {
          "base_uri": "https://localhost:8080/"
        }
      },
      "outputs": [
        {
          "output_type": "stream",
          "name": "stdout",
          "text": [
            "Mounted at /content/drive\n"
          ]
        }
      ],
      "source": [
        "#@markdown # **Optional:** Save data in Google Drive 💾\n",
        "#@markdown Enter a Google Drive path and run this cell if you want to store the results inside Google Drive.\n",
        "\n",
        "# Uncomment to copy generated images to drive, faster than downloading directly from colab in my experience.\n",
        "from google.colab import drive\n",
        "drive_mount_path = Path(\"/\") / \"content\" / \"drive\"\n",
        "drive.mount(str(drive_mount_path))\n",
        "drive_mount_path /= \"My Drive\"\n",
        "#@markdown ---\n",
        "drive_path = \"Colab Notebooks/Whisper Youtube\" #@param {type:\"string\"}\n",
        "#@markdown ---\n",
        "#@markdown **Run this cell again if you change your Google Drive path.**\n",
        "\n",
        "drive_whisper_path = drive_mount_path / Path(drive_path.lstrip(\"/\"))\n",
        "drive_whisper_path.mkdir(parents=True, exist_ok=True)"
      ]
    },
    {
      "cell_type": "code",
      "source": [
        "#@markdown # **Model selection** 🧠\n",
        "\n",
        "#@markdown As of the first public release, there are 4 pre-trained options to play with:\n",
        "\n",
        "#@markdown |  Size  | Parameters | English-only model | Multilingual model | Required VRAM | Relative speed |\n",
        "#@markdown |:------:|:----------:|:------------------:|:------------------:|:-------------:|:--------------:|\n",
        "#@markdown |  tiny  |    39 M    |     `tiny.en`      |       `tiny`       |     ~1 GB     |      ~32x      |\n",
        "#@markdown |  base  |    74 M    |     `base.en`      |       `base`       |     ~1 GB     |      ~16x      |\n",
        "#@markdown | small  |   244 M    |     `small.en`     |      `small`       |     ~2 GB     |      ~6x       |\n",
        "#@markdown | medium |   769 M    |    `medium.en`     |      `medium`      |     ~5 GB     |      ~2x       |\n",
        "#@markdown | large  |   1550 M   |        N/A         |      `large`       |    ~10 GB     |       1x       |\n",
        "\n",
        "#@markdown ---\n",
        "Model = 'large' #@param ['tiny.en', 'tiny', 'base.en', 'base', 'small.en', 'small', 'medium.en', 'medium', 'large']\n",
        "#@markdown ---\n",
        "#@markdown **Run this cell again if you change the model.**\n",
        "\n",
        "whisper_model = whisper.load_model(Model)\n",
        "\n",
        "if Model in whisper.available_models():\n",
        "    display(Markdown(\n",
        "        f\"**{Model} model is selected.**\"\n",
        "    ))\n",
        "else:\n",
        "    display(Markdown(\n",
        "        f\"**{Model} model is no longer available.**<br /> Please select one of the following:<br /> - {'<br /> - '.join(whisper.available_models())}\"\n",
        "    ))"
      ],
      "metadata": {
        "cellView": "form",
        "id": "TMhrSq_GZ6kA",
        "outputId": "9188caa6-7f93-4032-d5b3-5040772e47d0",
        "colab": {
          "base_uri": "https://localhost:8080/",
          "height": 64
        }
      },
      "execution_count": 25,
      "outputs": [
        {
          "output_type": "stream",
          "name": "stderr",
          "text": [
            "100%|█████████████████████████████████████| 2.87G/2.87G [00:58<00:00, 52.4MiB/s]\n"
          ]
        },
        {
          "output_type": "display_data",
          "data": {
            "text/plain": [
              "<IPython.core.display.Markdown object>"
            ],
            "text/markdown": "**large model is selected.**"
          },
          "metadata": {}
        }
      ]
    },
    {
      "cell_type": "code",
      "source": [
        "#@markdown # **Video selection** 📺\n",
        "\n",
        "#@markdown Enter the URL of the Youtube video you want to transcribe, wether you want to save the audio file in your Google Drive, and run the cell.\n",
        "\n",
        "Type = \"Google Drive\" #@param ['Youtube video or playlist', 'Google Drive']\n",
        "#@markdown ---\n",
        "#@markdown #### **Youtube video or playlist**\n",
        "URL = \"https://youtube.com/playlist?list=PLsuVSmND84QuE8dHZXQh20Sq-v8j1U5X1\" #@param {type:\"string\"}\n",
        "store_audio = True #@param {type:\"boolean\"}\n",
        "#@markdown ---\n",
        "#@markdown #### **Google Drive video, audio (mp4, wav), or folder containing video and/or audio files**\n",
        "video_path = \"Colab Notebooks/Whisper Youtube/test folder/\" #@param {type:\"string\"}\n",
        "#@markdown ---\n",
        "#@markdown **Run this cell again if you change the video.**\n",
        "\n",
        "video_path_local_list = []\n",
        "\n",
        "if Type == \"Youtube video or playlist\":\n",
        "    \n",
        "    try:\n",
        "        list_video_yt = [pytube.YouTube(URL)]\n",
        "    except Exception:\n",
        "        try:\n",
        "            list_video_yt = list(pytube.Playlist(URL).videos)\n",
        "        except Exception:\n",
        "            raise(RuntimeError(f\"{URL} isn't recgnized.\"))\n",
        "    \n",
        "    for video_yt in list_video_yt:\n",
        "        try:\n",
        "            video_yt.check_availability()\n",
        "            display(\n",
        "                YouTubeVideo(video_yt.video_id)\n",
        "            )\n",
        "        except pytube.exceptions.VideoUnavailable:\n",
        "            display(\n",
        "                Markdown(f\"**{URL} isn't available.**\"),\n",
        "            )\n",
        "            raise(RuntimeError(f\"{URL} isn't available.\"))\n",
        "        video_path_local = Path(\".\").resolve() / (video_yt.video_id+\".mp4\")\n",
        "        video_yt.streams.filter(\n",
        "            type=\"audio\",\n",
        "            mime_type=\"audio/mp4\",\n",
        "            abr=\"48kbps\"\n",
        "        ).first().download(\n",
        "            output_path = video_path_local.parent,\n",
        "            filename = video_path_local.name\n",
        "        )\n",
        "        if store_audio:\n",
        "            shutil.copy(video_path_local, drive_whisper_path / video_path_local.name)\n",
        "        video_path_local_list.append(video_path_local)\n",
        "\n",
        "elif Type == \"Google Drive\":\n",
        "    # video_path_drive = drive_mount_path / Path(video_path.lstrip(\"/\"))\n",
        "    for video_path_drive in (drive_mount_path / Path(video_path.lstrip(\"/\"))).glob(\"**/*\"):\n",
        "        video_path_local = Path(\".\").resolve() / (video_path_drive.name)\n",
        "        shutil.copy(video_path_drive, video_path_local)\n",
        "        if video_path_drive.is_file():\n",
        "            display(Markdown(f\"**{str(video_path_drive)} selected for transcription.**\"))\n",
        "        else:\n",
        "            display(Markdown(f\"**{str(video_path_drive)} does not exists.**\"))\n",
        "            raise(RuntimeError(f\"{str(video_path_drive)} does not exists.\"))\n",
        "        video_path_local_list.append(video_path_local)\n",
        "else:\n",
        "    raise(TypeError(\"Please select supported input type.\"))\n",
        "\n",
        "for video_path_local in video_path_local_list:\n",
        "    if video_path_local.suffix == \".mp4\":\n",
        "        video_path_local = video_path_local.with_suffix(\".wav\")\n",
        "        result  = subprocess.run([\"ffmpeg\", \"-i\", str(video_path_local.with_suffix(\".mp4\")), \"-vn\", \"-acodec\", \"pcm_s16le\", \"-ar\", \"16000\", \"-ac\", \"1\", str(video_path_local)])\n"
      ],
      "metadata": {
        "id": "xYLPZQX9S7tU",
        "cellView": "form",
        "outputId": "798ddd1d-d9bb-4aee-bb00-0454e5dcd6d6",
        "colab": {
          "base_uri": "https://localhost:8080/",
          "height": 46
        }
      },
      "execution_count": 22,
      "outputs": [
        {
          "output_type": "display_data",
          "data": {
            "text/plain": [
              "<IPython.core.display.Markdown object>"
            ],
            "text/markdown": "**/content/drive/My Drive/Colab Notebooks/Whisper Youtube/test folder/PEL_ep_305pt2_11-7-22.mp3 selected for transcription.**"
          },
          "metadata": {}
        }
      ]
    },
    {
      "cell_type": "code",
      "execution_count": 26,
      "metadata": {
        "id": "-X0qB9JAzMLY",
        "cellView": "form",
        "outputId": "d0a89260-a799-4f7e-cb8f-d7c68df27363",
        "colab": {
          "base_uri": "https://localhost:8080/",
          "height": 1000
        }
      },
      "outputs": [
        {
          "output_type": "display_data",
          "data": {
            "text/plain": [
              "<IPython.core.display.Markdown object>"
            ],
            "text/markdown": "### /content/PEL_ep_305pt2_11-7-22.mp3"
          },
          "metadata": {}
        },
        {
          "output_type": "stream",
          "name": "stdout",
          "text": [
            "[00:00.000 --> 00:04.080]  This episode of The Partially Examined Life is sponsored by GiveWell.org.\n",
            "[00:04.080 --> 00:09.040]  Get your first-time high-impact donation matched up to $100 before the end of the year.\n",
            "[00:09.040 --> 00:14.080]  This episode is sponsored by BetterHelp. Give online therapy a try at BetterHelp.com\n",
            "[00:14.080 --> 00:17.440]  slash partially and get on your way to being your best self.\n",
            "[00:17.440 --> 00:31.040]  You're listening to The Partially Examined Life. This is part two of episode 305 on Blood Meridian.\n",
            "[00:31.040 --> 00:37.600]  We were talking about the relative aptness of the term gratuitous to describe the violence\n",
            "[00:37.600 --> 00:42.320]  in Blood Meridian and wanted to make sure that we got to talking about\n",
            "[00:42.320 --> 00:45.520]  Judge Holden's characterizing of the meaning of life.\n",
            "[00:45.520 --> 00:49.920]  Okay. Shall I set us up for a little bit of that?\n",
            "[00:49.920 --> 00:54.960]  Before you do, let me just throw in that thing. So there's a notion out there on the internet\n",
            "[00:54.960 --> 01:00.320]  anyway that this book is unfilmable. It can't be made into a movie. And I think it's exactly\n",
            "[01:00.320 --> 01:05.840]  those two topics, namely the violence in combination with kind of the philosophic\n",
            "[01:05.840 --> 01:12.080]  positions and representations by Judge Holden that are commonly used as justifications for why\n",
            "[01:12.080 --> 01:14.960]  it might not be possible to turn this into a movie.\n",
            "[01:14.960 --> 01:19.120]  If it was done right, it would make an incredible movie. Did you guys see the\n",
            "[01:19.120 --> 01:21.600]  new All Quiet on the Western Front, by the way, the German?\n",
            "[01:21.600 --> 01:21.840]  No.\n",
            "[01:21.840 --> 01:26.240]  No. It's incredible and explicitly violent, but it's a masterpiece.\n",
            "[01:27.280 --> 01:28.640]  I have to watch that.\n",
            "[01:28.640 --> 01:32.800]  And that book was a famous anti-war book. I think when we were in high school,\n",
            "[01:32.800 --> 01:37.520]  I think we all had to read it, right? Early Academy Award winning film was based on it.\n",
            "[01:37.520 --> 01:40.960]  So it's an anti-war movie, but it, I mean, anti-war book and anti-war movie\n",
            "[01:40.960 --> 01:45.280]  that it can only communicate that through the explicit violence.\n",
            "[01:45.280 --> 01:50.240]  I didn't read a ton about the movie question. I read a little bit, but Ridley Scott,\n",
            "[01:50.240 --> 01:54.000]  it was an example of a director that apparently worked on it for a long time,\n",
            "[01:54.800 --> 02:01.520]  trying to make it into a movie. And he is not a director who has shied away from having violence\n",
            "[02:01.520 --> 02:02.320]  in his movies.\n",
            "[02:02.320 --> 02:08.480]  The violence is so over the top that if you're true to the book, you're going to be creating\n",
            "[02:08.480 --> 02:12.720]  something a lot of people are not going to be able to watch, I think. But then if you don't\n",
            "[02:12.720 --> 02:22.000]  include it, but there's so much, the visual magic in this book is just waiting for cinematic\n",
            "[02:22.000 --> 02:27.280]  treatment, the blue lightning storms and the desert and all that. And I actually didn't do\n",
            "[02:27.280 --> 02:33.120]  a lot of this, but I was hoping that someone had done a video journal tour of the route,\n",
            "[02:33.120 --> 02:39.440]  so I could see everything that's talked about. Maybe that's been done. Maybe that will be done.\n",
            "[02:39.440 --> 02:44.160]  That would be in and of itself amazing. And I saw the map. Yeah.\n",
            "[02:44.160 --> 02:49.120]  Yeah. You can find maps online. That would be really interesting. A video journal.\n",
            "[02:49.120 --> 02:55.760]  I didn't find a good map. The maps I found showed paths, but it didn't show the path,\n",
            "[02:55.760 --> 02:59.520]  right? Which I found pretty frustrating. It's the obvious thing you would do, right? Is\n",
            "[02:59.520 --> 03:05.200]  what did they actually do? Maybe you have a separate one for, was it Toadvine and Brown\n",
            "[03:05.200 --> 03:10.000]  that go to San Diego as a little bit side excursion, right? But for crying out loud,\n",
            "[03:10.000 --> 03:16.320]  just draw the line. I know I had the same thing. I don't like the map, but yeah, there's that map\n",
            "[03:16.320 --> 03:22.160]  out there, but I can't read it either. I think Wes, you're wanting to have us get to the...\n",
            "[03:23.120 --> 03:26.800]  Yeah. Let's do some judge. The philosophy of Judge Holden.\n",
            "[03:26.800 --> 03:28.800]  Let's do some Judge Holden. The philosophy of Judge Holden.\n",
            "[03:28.800 --> 03:35.600]  Yeah. It's very convenient that we have such a vocal character in the book to tell us what it's\n",
            "[03:35.600 --> 03:41.120]  about. And to offer, I was going to say a philosophically sound thesis, but not to say\n",
            "[03:41.120 --> 03:45.360]  that it's right. It's not wrong, but it's an option that's not often talked about, even\n",
            "[03:45.360 --> 03:52.240]  though it's enacted, right? So war, why do people do war so much? It's impractical. Personally,\n",
            "[03:52.240 --> 03:56.880]  I reject the so-called realists who think wars, these big strategic objectives. It's\n",
            "[03:56.880 --> 04:03.760]  always a disaster for everyone. So it's a meaning making activity. Chris Hedges wrote a famous book\n",
            "[04:03.760 --> 04:08.400]  called War as a Force that gives us meaning or something like that. And I think we got into this\n",
            "[04:08.400 --> 04:15.120]  a little bit with our Simone Vai episode. Iliad, Poem of Force, I think was the essay we read on\n",
            "[04:15.120 --> 04:21.600]  this. I think maybe the best place to start with Judge Holden is chapter 17, the war is God part.\n",
            "[04:21.600 --> 04:25.040]  There are some antecedents to this that we could go back to. There's a bit of\n",
            "[04:25.040 --> 04:32.960]  the judge stuff in chapters 11 and 13, but... I think 17, I mean, it is distilled there, right?\n",
            "[04:32.960 --> 04:37.520]  Yeah. So he'll start out earlier on, he'll give a bit of a Schopenhauerian\n",
            "[04:38.880 --> 04:44.240]  idea of the world as this fever dream with a calamitous destination. That's basically the\n",
            "[04:44.240 --> 04:49.520]  summary of what he says about that. And then... I'm sorry, I'm laughing because I just opened\n",
            "[04:49.520 --> 04:55.840]  17 in turn and it's like, across from him sat the vast abhorrence of the judge, half naked,\n",
            "[04:55.840 --> 05:00.960]  scribbling in his ledger. He's constantly naked too, but that just like the abhorrence of the\n",
            "[05:00.960 --> 05:05.200]  judge. We haven't even mentioned that he's a murderous pedophile, but... I was going to point\n",
            "[05:05.200 --> 05:10.720]  to exactly that part because it's the setup for the section that Wes is pointing us to.\n",
            "[05:11.600 --> 05:16.000]  They're sitting around the fire and yeah, it begins with the vast abhorrence of the judge.\n",
            "[05:16.000 --> 05:18.960]  To me, that's the beginning of the section. Yeah, because there's kind of two camps.\n",
            "[05:18.960 --> 05:23.440]  There's kind of two campfire scenes in this chapter. And the one that I just talked about\n",
            "[05:23.440 --> 05:28.240]  with the world as a fever dream is the first one. And the second one is the war is God part.\n",
            "[05:28.800 --> 05:33.920]  So I forget where the abhorrence thing is, but... It's on page 243 in this version of the book.\n",
            "[05:34.640 --> 05:40.560]  So let's give a little bit of this argument. Basically, Jackson has said something about\n",
            "[05:40.560 --> 05:46.080]  living by the sword, dying by the sword, the rare moment where someone in the book is moralistic\n",
            "[05:46.080 --> 05:51.840]  about the violence. And the judge is basically going to say something like war is actually the\n",
            "[05:51.840 --> 05:56.880]  telos of men. It's kind of his built-in end. So he'll say, it makes no difference what men think\n",
            "[05:56.880 --> 06:04.000]  of war, said the judge. War endures. As well ask men what they think of stone. War was always there.\n",
            "[06:04.000 --> 06:09.440]  Before man was, war waited for him. The ultimate trade awaiting its ultimate practitioner.\n",
            "[06:09.440 --> 06:15.680]  That is the way it was and will be that way and not some other way. And then he kind of teases\n",
            "[06:15.680 --> 06:20.880]  Brown, it's your trade we honor here, mine too. And Brown's like, what's with all the notebooks\n",
            "[06:20.880 --> 06:25.360]  then? Why are you sketching and being a botanist and being a geologist and all that? He'll say,\n",
            "[06:25.360 --> 06:31.200]  all other trades are contained in that of war. And then he'll say war endures because young men\n",
            "[06:31.200 --> 06:36.960]  love it and old men love it in them. I think that's a great, great line. Yeah. And then the\n",
            "[06:36.960 --> 06:42.240]  idea is that, so why is it the telos of man? Because man is a creature of play. This is the\n",
            "[06:42.240 --> 06:48.640]  weird inversion of Nietzsche on the aesthetic and on sublimation. The idea is that yes, men are\n",
            "[06:48.640 --> 06:54.880]  creatures of play and play is nobler than work. But the ultimate manifestation is in the game.\n",
            "[06:54.880 --> 07:02.880]  In games, the higher the stakes, the more worth they confer on the participants and the more\n",
            "[07:02.880 --> 07:08.000]  agency the game, they confer on participants. So he'll say all games aspire to the condition of war\n",
            "[07:08.720 --> 07:14.400]  for here, that which is wagered, swallows up game player all. We should read that paragraph. Yeah.\n",
            "[07:14.400 --> 07:19.120]  Why don't you do that? And then, yeah. Men are born for games, nothing else. Every child knows\n",
            "[07:19.120 --> 07:24.480]  that play is nobler than work. He knows too that the worth or merit of a game is not inherent in\n",
            "[07:24.480 --> 07:30.160]  the game itself, but rather in the value of that which is put at hazard. Games of chance require\n",
            "[07:30.160 --> 07:35.280]  a wager to have meaning at all. Games of sport involve the skill and strength of the opponents\n",
            "[07:35.280 --> 07:40.160]  and the humiliation of defeat and the pride of victory are in themselves sufficient stake because\n",
            "[07:40.160 --> 07:45.280]  they inhere in the worth of the principles and define them. But trial of chance or trial of worth,\n",
            "[07:45.280 --> 07:51.440]  all games aspire to the condition of war for here, that which is wagered, swallows up game player\n",
            "[07:51.440 --> 07:56.720]  all. Suppose two men at cards with nothing to wager save their lives. Who has not heard of such\n",
            "[07:56.720 --> 08:02.800]  a tale? A turn of the card? The whole universe for such a player has labored clanking to this moment,\n",
            "[08:02.800 --> 08:08.160]  which will tell if he is to die at the man's hand or that man at his. What more certain validation\n",
            "[08:08.160 --> 08:13.680]  of a man's worth could there be? This enhancement of the game to its ultimate state admits no\n",
            "[08:13.680 --> 08:18.400]  argument concerning the notion of fate. The selection of one man over another is a preference\n",
            "[08:18.400 --> 08:23.920]  absolute and irrevocable, and it is a dull man indeed who could reckon so profound a decision\n",
            "[08:23.920 --> 08:28.880]  without agency or significance, either one. In such games as have for their stake the\n",
            "[08:28.880 --> 08:34.000]  annihilation of the defeated, the decisions are quite clear. This man holding this particular\n",
            "[08:34.000 --> 08:39.520]  arrangement of cards in his hand is thereby removed from existence. This is the nature of war,\n",
            "[08:39.520 --> 08:46.480]  whose stake is at once the game and the authority and the justification. Seen so, war is the truest\n",
            "[08:46.480 --> 08:53.120]  form of divination. It is the testing of one's will and the will of another within that larger\n",
            "[08:53.120 --> 09:00.000]  will, which, because it binds them, is therefore forced to select. War is the ultimate game,\n",
            "[09:00.000 --> 09:07.200]  because war is at last a forcing of the unity of existence. War is God.\n",
            "[09:07.200 --> 09:14.160]  The interesting idea here is that we think of the unifying force in the world as love or\n",
            "[09:14.160 --> 09:17.840]  natural equivalent of that, right? Natural forces that bind.\n",
            "[09:17.840 --> 09:18.880]  Bring things together.\n",
            "[09:18.880 --> 09:25.280]  Yeah, bring things together, unify and synthesize. But here, the idea is that war does that. It's\n",
            "[09:25.280 --> 09:34.160]  not mere annihilation, because it involves this contest of wills that binds two wills to a larger\n",
            "[09:34.160 --> 09:40.720]  will. This also sounds kind of Schopenhauerian in a way. It's almost like an anti-Hegel type of\n",
            "[09:40.720 --> 09:45.680]  thesis. He's anti-Nietzschean, he's anti-Hegel, in that the master-slave dynamic, it's not that\n",
            "[09:45.680 --> 09:52.320]  mutual reciprocity in which there's some level of equality reached between the two participants and\n",
            "[09:52.320 --> 09:58.640]  their mutual recognition, kind of parallel to a planetary orbit that doesn't swallow up the\n",
            "[09:58.640 --> 10:05.120]  planet. Rather, this is sort of the theory of the master, which is that you simply overpower the\n",
            "[10:05.120 --> 10:11.120]  slave. And that's the unity, right? You get a unification of the self through that overpowering.\n",
            "[10:11.120 --> 10:16.880]  But the one other thing I want to say about this is that the idea of the game here is that when\n",
            "[10:16.880 --> 10:21.760]  you're playing a game, if you think of the world in a deterministic way, everything that's happened\n",
            "[10:21.760 --> 10:26.000]  is the result of the causal matrix in which you exist. All the previous things that have\n",
            "[10:26.000 --> 10:32.560]  happened in the world come to that point, and it's predetermined in some sense. And the game player\n",
            "[10:32.560 --> 10:37.280]  embraces that moment. They say, okay, I'm going to play a game of luck. In No Country for Old Men,\n",
            "[10:37.280 --> 10:40.720]  right? It's just the flipping of the coin. It's kind of a pure version of that. I'm going to play\n",
            "[10:40.720 --> 10:47.840]  a game of luck in which the stakes are ultimate. And I'm going to kind of retrieve agency out of\n",
            "[10:47.840 --> 10:55.920]  determinism by making the decision to go along with the term determinism, whatever deterministic\n",
            "[10:55.920 --> 11:03.280]  or chance result comes. And not only that, I'm going to stake my life on that. I'm going to\n",
            "[11:03.280 --> 11:09.040]  make this appeal to what the judge calls the historical absolute. This is why violence is\n",
            "[11:09.040 --> 11:14.000]  taken to be the road to agency, is because in being violent and getting into a contest of\n",
            "[11:14.000 --> 11:21.600]  wills which is violent and playing a game for the ultimate stakes, I am willfully subjecting myself\n",
            "[11:21.600 --> 11:27.040]  to the outcome of that battle, even though in some sense it's predetermined, probably by just\n",
            "[11:27.040 --> 11:31.440]  who's bigger, who has more force, right? But also by a lot of other preceding causal forces.\n",
            "[11:32.080 --> 11:37.440]  So I'm sure that as Dylan was reading it, all the folks listening jumped out of their chairs to make\n",
            "[11:37.440 --> 11:42.320]  the connection to No Country for Old Men with Anton Chigurh and the flipping of the coin,\n",
            "[11:42.960 --> 11:49.520]  right? Because he essentially is the embodiment of this thesis in that context. A couple of things I\n",
            "[11:49.520 --> 11:55.040]  want to say about this. So first off, I caution the listener against the concept here of he's\n",
            "[11:55.040 --> 12:02.640]  talking about war, because he's not talking about war in the sense of nation against nation or army\n",
            "[12:02.640 --> 12:07.520]  against army. That's not the way he's characterizing it. He's talking about it's the state\n",
            "[12:07.520 --> 12:13.520]  of nature, right? The war of all against all. It's got more of that kind of a flavor. And he talks\n",
            "[12:13.520 --> 12:19.840]  about the war consuming the players and the game. And the reason why it's important to talk about\n",
            "[12:19.840 --> 12:24.640]  the two individuals testing their wills against each other as part of the larger will is that\n",
            "[12:24.640 --> 12:30.560]  when one is destroyed, there's no more game. Like if we play chess and Dylan beats me,\n",
            "[12:30.560 --> 12:36.320]  the game still exists, I still exist, and we can play another game or somebody else can play chess.\n",
            "[12:36.880 --> 12:44.880]  It's that war constitutes an irreducible and unique particular event.\n",
            "[12:44.880 --> 12:49.120]  Like the normal stakes of a game, what's at stake, he says? The humiliation of defeat\n",
            "[12:49.680 --> 12:53.040]  and the pride in victory, right? And you can get that out of a game of hearts or\n",
            "[12:53.040 --> 12:58.480]  pinochle or whatever. Silliest game, Monopoly. We can feel, we get some of that. And so something's\n",
            "[12:58.480 --> 13:04.560]  at stake. And the question is, the game becomes better and better the more you raise the stake.\n",
            "[13:04.560 --> 13:09.040]  So if you raise it to the level of life and death, then you've enhanced the game. And so\n",
            "[13:09.600 --> 13:15.600]  this is all about the validation of the worth of the participant, right? The pride in victory,\n",
            "[13:15.600 --> 13:21.120]  this is how you endow yourself with worth and agency. And the only way to maximize that is to\n",
            "[13:21.760 --> 13:28.080]  take the ultimate risk of death and engage in this violent struggle. Annihilation must be\n",
            "[13:28.080 --> 13:35.840]  the stake. Yeah. Annihilation is the stake, but the vindication or what you get at, it's not just\n",
            "[13:35.840 --> 13:41.920]  survival, but it's the extinction of somebody else's existence, right? So it's a combination\n",
            "[13:42.640 --> 13:49.840]  of wagering, but also winning that wager in the form of, like if I was going to tie this back to,\n",
            "[13:49.840 --> 13:55.040]  for example, Heidegger, gratuitous name drop, I apologize for violating the rule.\n",
            "[13:55.040 --> 14:00.320]  But the notion that death is the end of possibility, right? Death represents\n",
            "[14:00.320 --> 14:05.920]  Daseins not having any future projection anymore possibility. It's the snuffing out,\n",
            "[14:05.920 --> 14:11.680]  essentially, of a world, right? There's an old Jewish thing. Basically, the idea is that if you\n",
            "[14:11.680 --> 14:18.720]  take a life, it's as if you had taken an entire world because that person could have children,\n",
            "[14:18.720 --> 14:25.600]  those children have children, you could be cutting off an entire future of people and possibilities\n",
            "[14:25.600 --> 14:30.960]  and worlds. And I think that's part of this as well. So the judge doesn't characterize it this\n",
            "[14:30.960 --> 14:35.840]  way, because if you think about it in the descriptions of the violence that they perpetrate,\n",
            "[14:35.840 --> 14:40.320]  which by the way, I'm trying to recall if we ever have any explicit descriptions of the kid\n",
            "[14:40.320 --> 14:45.840]  actually perpetrating any of the atrocities the way some of the others do, but it's oftentimes,\n",
            "[14:45.840 --> 14:51.280]  it seems as though they're not actually risking. In some cases they are, but when they slaughter\n",
            "[14:51.280 --> 14:56.960]  the peaceful Indians in their village, there's no real risk to them. And so there's kind of a\n",
            "[14:56.960 --> 15:01.440]  betrayal of this notion, the judge is speaking out of two sides of his mouth. Now, you could\n",
            "[15:01.440 --> 15:06.240]  say that that's not the judge, that's Glanton, that's doing that and what have you. But there's\n",
            "[15:06.240 --> 15:11.680]  something specious about this characterization that doesn't sit with me. I mean, they do get\n",
            "[15:11.680 --> 15:18.720]  messed up pretty badly by Apaches and by General Elias's men. They can, there are situations where\n",
            "[15:18.720 --> 15:22.800]  they're testing their will against the others in the ultimate game and there are others where they're\n",
            "[15:22.800 --> 15:28.400]  not. That's not war. What I'm saying is they're not at war all the time in this book. They're\n",
            "[15:28.400 --> 15:33.600]  perpetrating massacres. Yeah, I think you're right that Holden is what he means by war is rather\n",
            "[15:33.600 --> 15:38.560]  expansive and war of all against all and it can be a massacre. It could just be completely\n",
            "[15:38.560 --> 15:43.520]  overpowering your quote unquote enemy or which could be a child, right? He's killing children\n",
            "[15:43.520 --> 15:48.720]  as well and being a pedophile and yeah. I mean, even though there's a condition of\n",
            "[15:49.360 --> 15:55.360]  one against the other, it seems to me that it's in his characterization, it's all about\n",
            "[15:56.160 --> 16:03.920]  the hazard of you yourself. And I think it's right. This isn't geopolitical confrontation\n",
            "[16:03.920 --> 16:11.920]  kind of war. This is a one individual against other individuals or circumstances in which you\n",
            "[16:12.640 --> 16:19.040]  push your own existence. The stakes of moment after moment are your own existence itself and\n",
            "[16:19.040 --> 16:27.440]  the part that would link up with other people is your annihilation of another is only more\n",
            "[16:27.440 --> 16:33.520]  validation of your winning. It's not glory exactly. That's not what's won, right? But it is\n",
            "[16:33.520 --> 16:40.560]  it's agency and autonomy. I think it's agency and autonomy and your killing of other people is a\n",
            "[16:41.120 --> 16:46.000]  activity of your agency and autonomy. It's important to mention that because there are\n",
            "[16:46.000 --> 16:51.280]  ways that you could risk your life without confronting somebody else where they would\n",
            "[16:51.280 --> 16:57.360]  be risking theirs in the same endeavor. Like you can do extreme stunts or climb mountains or do\n",
            "[16:57.360 --> 17:02.160]  you know and that's not what he's talking about. I wondered about that a little bit with asking\n",
            "[17:02.160 --> 17:07.200]  the question about nature. So you raised the question of like free solo. You're going to go\n",
            "[17:07.200 --> 17:12.720]  and you're going to climb out Capitan in one shot without any safety equipment, right? This is what\n",
            "[17:12.720 --> 17:21.040]  Alex Panol did and extraordinarily risky for most people, arguably very risky even for someone like\n",
            "[17:21.040 --> 17:28.320]  him. And part of that free solo and part of the deal is the stakes. It's clearly part of the deal\n",
            "[17:28.320 --> 17:35.440]  for free climbers is the stakes. And in here we talked a lot about nature and the kind of suffering\n",
            "[17:35.440 --> 17:42.800]  and gauntlet and experience that nature presents. And I think Holden could imagine it that way that\n",
            "[17:42.800 --> 17:49.120]  they're surviving through the desert was part of that. I don't know that he does. I am trying to\n",
            "[17:49.120 --> 17:54.320]  think of his interaction with nature in this respect is in terms of consuming it sort of as\n",
            "[17:54.320 --> 18:00.080]  a scientist, as a paleontologist and writing it down and stuff like that. And I see that as again\n",
            "[18:00.080 --> 18:08.880]  a kind of consumption of it. I don't see anything in here that I remember of Holden. Maybe he does.\n",
            "[18:08.880 --> 18:13.760]  So I want to I think I can help us with this because it maybe maybe but it kind of ties\n",
            "[18:13.760 --> 18:19.040]  together what we were just talking about as well with agency and autonomy because remember that\n",
            "[18:19.040 --> 18:24.560]  philosophically we should keep in mind what the rival explanation of autonomy is which is precisely\n",
            "[18:24.560 --> 18:30.400]  the opposite. We are autonomous when we're behaving ethically or behaving morally. And according to\n",
            "[18:30.400 --> 18:37.120]  Kant that's because we are in a way following laws issued from within. And even in Leibniz and\n",
            "[18:37.120 --> 18:42.160]  previous philosophers the idea is that there's autonomy in reasoning. We can be responsive to\n",
            "[18:42.160 --> 18:49.520]  reasons. We can be responsive to insight into what is good for us and there's freedom to be had in\n",
            "[18:49.520 --> 18:54.480]  that and then the rest is heteronomy you know including violence or greed or whatever. That's\n",
            "[18:54.480 --> 19:02.720]  when we are living at the behest of objects of desire or hate or whatever. We are strung along\n",
            "[19:02.720 --> 19:10.240]  by them and the judge will explicitly reject this in another passage just after the one we read.\n",
            "[19:10.240 --> 19:13.920]  I'm going to go ahead and read this as well because I think it's important. Moral law is\n",
            "[19:13.920 --> 19:18.480]  an invention of mankind for the disenfranchisement of the powerful in favor of the weak. So sounds\n",
            "[19:18.480 --> 19:22.880]  very Nietzschean. I think it's a red herring because I think the judge judges the anti-Nietzsche. But\n",
            "[19:22.880 --> 19:30.080]  going further historical law subverts it at every turn. Historical law which I read as determinism\n",
            "[19:30.080 --> 19:35.360]  destiny in the sense of causal determinism. A moral view can never be proven right or wrong by\n",
            "[19:35.360 --> 19:40.720]  any ultimate test. A man falling dead in a duel is not thereby to be proven in error as to his views.\n",
            "[19:41.280 --> 19:46.640]  His very involvement in such trial gives evidence of a new and broader view. The willingness of the\n",
            "[19:46.640 --> 19:51.280]  principles to forgo further argument as the triviality which it in fact is and a petition\n",
            "[19:51.280 --> 19:56.720]  directly to the chambers of the historical absolute clearly indicates of how little moment\n",
            "[19:56.720 --> 20:01.760]  are the opinions and of what great moment the divergences thereof. For the argument is indeed\n",
            "[20:01.760 --> 20:07.600]  trivial but not so the separate wills thereby made manifest. Man's vanity may well approach\n",
            "[20:07.600 --> 20:12.720]  the infinite in capacity but his knowledge remains imperfect and however much he comes to value his\n",
            "[20:12.720 --> 20:17.520]  judgments ultimately he must submit them before a higher court. Here are considerations of equity\n",
            "[20:17.520 --> 20:22.880]  and rectitude and moral right rendered void and without warrant and here are the views of litigants\n",
            "[20:22.880 --> 20:28.480]  despised. Decisions of life and death and of what shall be and what shall not beggar all question\n",
            "[20:28.480 --> 20:34.480]  of right. In elections of these magnitude are all lesser ones subsumed moral spiritual natural.\n",
            "[20:34.480 --> 20:38.960]  So what is the argument he's making? You know there's a little bit of a skepticism. He's saying\n",
            "[20:38.960 --> 20:44.160]  our knowledge is too imperfect to prove anything about our values. We can't prove right and wrong.\n",
            "[20:44.160 --> 20:50.240]  So it's futile to argue about that and to do the very thing that I was just talking about\n",
            "[20:50.240 --> 20:54.960]  as the key to autonomy which is reasoning right. Moral reasoning would be the key to autonomy. He\n",
            "[20:54.960 --> 21:01.280]  says that's futile. That is not the path to autonomy. It's never going to give you a final\n",
            "[21:01.280 --> 21:09.200]  proof of anything. The only final proof is the historical verdict is the verdict of history\n",
            "[21:09.200 --> 21:16.000]  and the historical absolute which is to say our destiny as determined by all the causal forces\n",
            "[21:16.000 --> 21:21.440]  that you know lead us to that destiny. So fate or fate might be the wrong word but destiny becomes\n",
            "[21:21.440 --> 21:26.160]  the norm. That's the only norm. Not you know is it right to kill this person. Is it not right to\n",
            "[21:26.160 --> 21:31.440]  kill this person. It's just is it destined to happen. Is it written. That becomes the norm\n",
            "[21:31.440 --> 21:41.680]  and then you gain agency by saying I am going to gamify. I'm going to embrace this high stakes game\n",
            "[21:41.680 --> 21:50.080]  and not run from it. I'm going to submit myself to destiny by putting myself in the position to\n",
            "[21:50.080 --> 21:57.520]  kill and be killed and at all moments to get that verdict rendered up right. The verdict that moral\n",
            "[21:57.520 --> 22:04.320]  argument can provide I can have it rendered up by war or you know violence but also Dylan just to\n",
            "[22:04.320 --> 22:10.000]  speak to your case by by the environment by man against the whole man against nature thing. All\n",
            "[22:10.000 --> 22:15.200]  of that I subject myself to risk and it's not about adrenaline as we might think with like a\n",
            "[22:15.200 --> 22:22.080]  mountain climbing thing. It's about agency. Yeah it's about agency. It's also there's something\n",
            "[22:22.080 --> 22:28.560]  here about the finality of violence. This notion where he says we don't think that if somebody\n",
            "[22:28.560 --> 22:34.160]  wins a duel that they're morally vindicated. There's a romantic view that God would support\n",
            "[22:34.160 --> 22:38.800]  the one who was in the right and that you would have a duel and whoever won the duel was ultimately\n",
            "[22:38.800 --> 22:44.320]  in the right as far as this. But well psychologically we do tend to think that like Nietzsche formulated\n",
            "[22:44.320 --> 22:49.920]  this in a phrase political superiority always resolves itself into psychologically superiority\n",
            "[22:49.920 --> 22:55.600]  or victims blame themselves. We always moralize struggles of power but the judge is right. I mean\n",
            "[22:55.600 --> 23:02.560]  we shouldn't but we do. We do but ultimately it doesn't matter who's right if they're dead.\n",
            "[23:02.560 --> 23:10.720]  It doesn't matter who is holy if they're dead. Violence unto death renders a judgment which\n",
            "[23:10.720 --> 23:16.720]  nullifies all other judgments is his point. And then you know after this he turns to the priest\n",
            "[23:16.720 --> 23:21.120]  right and the priest has no response. Now it is the priest or it's not the priest it's Jackson\n",
            "[23:21.120 --> 23:26.320]  who says the good book says that he who lives by the sword dies by the sword which we referred to\n",
            "[23:26.320 --> 23:32.080]  in part one I think it was. He's explicitly saying and he could make reference to the bible.\n",
            "[23:32.080 --> 23:39.120]  We've talked about violence from the perspective of the individual is about agency and destiny\n",
            "[23:39.120 --> 23:45.520]  but violence from the perspective of a force of nature or of some kind of social structuring he's\n",
            "[23:45.520 --> 23:51.680]  saying hierarchically it sits above any other kind of consideration because who gives a shit\n",
            "[23:51.680 --> 23:56.880]  if you have the best argument in favor of such and such a view if somebody can just take out\n",
            "[23:56.880 --> 24:01.760]  a gun and kill you. But also the argument can never be resolved because our imperfect knowledge\n",
            "[24:01.760 --> 24:09.200]  but violence is perfect right as you put it Seth. Violence can be absolute and perfect in a way that\n",
            "[24:09.200 --> 24:14.880]  moral reasoning never can be. When you die your argument has reached its conclusion decisively\n",
            "[24:14.880 --> 24:19.680]  and no one can argue against it. But again I just want to emphasize the fact that the agency is not\n",
            "[24:19.680 --> 24:25.280]  and it's not destiny busting. All of that imagery with them they're being driven by the sun across\n",
            "[24:25.280 --> 24:31.520]  the desert and it's like they're dolls and raggedy men and they don't. The special irony of the\n",
            "[24:31.520 --> 24:38.400]  book or the judge's thesis it's that submission to destiny in the sense of the most high stakes\n",
            "[24:38.400 --> 24:44.080]  conflicts you know the results of high stakes conflicts submission to that destiny is ironically\n",
            "[24:44.080 --> 24:51.040]  weirdly the only form of agency. So you try to retrieve freedom out of determinism by endorsing\n",
            "[24:51.040 --> 24:57.120]  determinism by making determinism your norm. This show is sponsored by BetterHelp. At various times\n",
            "[24:57.120 --> 25:01.760]  in my life I felt overwhelmed and recognized the need to get professional therapeutic help.\n",
            "[25:02.320 --> 25:06.960]  At first it was very hard to admit that I couldn't power through by myself. After I got tangible\n",
            "[25:06.960 --> 25:12.560]  benefit from therapy I had the confidence to seek professional help for coping skills,\n",
            "[25:12.560 --> 25:17.280]  relationships, career challenges, and even parenting. If you feel like you need a user manual\n",
            "[25:17.280 --> 25:23.120]  for life it's time for BetterHelp online therapy. When you enter a relationship with a therapist\n",
            "[25:23.120 --> 25:27.520]  you want to know they are skilled professionals. BetterHelp therapists are licensed, trained,\n",
            "[25:27.520 --> 25:31.680]  experienced, and accredited. You can be confident that BetterHelp will match you with someone who\n",
            "[25:31.680 --> 25:35.680]  can help. Speaking of matching, one of the challenges of trying to find a therapist is\n",
            "[25:35.680 --> 25:40.240]  doing the research needed to find someone with the skills and style to meet your needs.\n",
            "[25:40.240 --> 25:44.560]  BetterHelp makes this easy with a simple but comprehensive intake questionnaire that ensures\n",
            "[25:44.560 --> 25:49.600]  they'll only recommend good options for you. You'll quickly find a great match. Finally,\n",
            "[25:49.600 --> 25:53.840]  BetterHelp removes barriers to the benefits of therapy by making it accessible, affordable,\n",
            "[25:53.840 --> 25:59.040]  and convenient. If you are struggling with life's challenges, BetterHelp gets you assistance anytime,\n",
            "[25:59.040 --> 26:04.000]  anywhere. As the world's largest therapy service, BetterHelp has matched 3 million people with\n",
            "[26:04.000 --> 26:09.760]  professionally licensed and vetted therapists available 100% online. Plus it's affordable.\n",
            "[26:09.760 --> 26:14.000]  Just fill out a brief questionnaire to match with a great therapist. If things aren't clicking,\n",
            "[26:14.000 --> 26:19.280]  you can easily switch to a new therapist anytime. It could not be easier. No waiting rooms,\n",
            "[26:19.280 --> 26:23.680]  no traffic, no endless searching for the right therapist. Learn more and save 10%\n",
            "[26:23.680 --> 26:31.040]  off your first month at BetterHelp.com slash partially. That's BetterHelp, H-E-L-P, dot com\n",
            "[26:31.040 --> 26:35.760]  slash partially. You love to open your heart during the holidays and make a difference in\n",
            "[26:35.760 --> 26:40.560]  other people's lives. But when you donate, how can you feel confident that your donations are\n",
            "[26:40.560 --> 26:45.360]  really making an impact? Well, you could do this by doing weeks of research to find charities,\n",
            "[26:45.360 --> 26:49.680]  figure out what they do and how effective they are, and how the charity might use your money.\n",
            "[26:49.680 --> 26:54.400]  Or you could visit GiveWell.org. There you'll find free research and recommendations about\n",
            "[26:54.400 --> 27:00.160]  charities that save or improve lives most per dollar. GiveWell spends over 30,000 hours each\n",
            "[27:00.160 --> 27:05.840]  year researching charitable organizations and only directs funding to a few of the highest impact,\n",
            "[27:05.840 --> 27:10.960]  evidence-based charities they've found. Over 100,000 donors have used GiveWell to donate\n",
            "[27:10.960 --> 27:16.400]  more than $1 billion. And rigorous evidence suggests that these donations will save tens\n",
            "[27:16.400 --> 27:22.000]  of thousands of lives and improve the lives of millions more. And using GiveWell's research is\n",
            "[27:22.000 --> 27:28.400]  free. GiveWell wants as many donors as possible to make informed decisions about high-impact giving.\n",
            "[27:28.400 --> 27:32.560]  They publish all of their research and recommendations on their site for free.\n",
            "[27:32.560 --> 27:37.120]  No sign-up is required. They allocate your tax-deductible donation to the charity you\n",
            "[27:37.120 --> 27:42.720]  choose without taking a cut. The easiest way to give via GiveWell is their Top Charities Fund.\n",
            "[27:42.720 --> 27:46.400]  Every quarter, they put your money where it will do the most good and also where the highest\n",
            "[27:46.400 --> 27:52.560]  priority need exists. This is how I donate, and you should too. If you've never donated to GiveWell's\n",
            "[27:52.560 --> 27:57.680]  recommended charities before, you can have your donation matched up to $100 before the end of the\n",
            "[27:57.680 --> 28:03.440]  year, as long as matching funds last. To claim your match, go to GiveWell.org, pick Podcast,\n",
            "[28:03.440 --> 28:08.000]  and then enter the Partially Examined Life Philosophy Podcast at checkout. Make sure they\n",
            "[28:08.000 --> 28:12.240]  know that you heard about GiveWell from the Partially Examined Life Philosophy Podcast to\n",
            "[28:12.240 --> 28:18.480]  get your donation matched. Let's talk a little bit about the unity that Holden is pointing to,\n",
            "[28:18.480 --> 28:24.640]  because I think that's part of what would turn on. I mean, he, in that section, the great unity is\n",
            "[28:24.640 --> 28:31.040]  in acts of violence and in the submission of yourself to that game and that test,\n",
            "[28:31.040 --> 28:37.120]  and then the ferreting out of the survivor. I guess I would say the winner. As you pointed out,\n",
            "[28:37.120 --> 28:43.440]  your destiny goes through that cauldron of violence. The moral unity that you were referring\n",
            "[28:43.440 --> 28:49.600]  to, Wes, I think that's the right one that, in fact, the judge responds to is one that says that\n",
            "[28:49.600 --> 28:57.360]  the unity that we would aspire to involves other people in a fundamental way. And I think that in\n",
            "[28:57.360 --> 29:02.960]  the way Holden is talking about it, other people are just incidental. The fact that they are other\n",
            "[29:02.960 --> 29:08.800]  human beings doesn't matter at all, because it has to do with your destiny. The difference here\n",
            "[29:08.800 --> 29:18.160]  seems to me is his formulation is one that is completely solitary. You are a lone entity in\n",
            "[29:18.160 --> 29:23.760]  the world, and the world is sort of incidental. In fact, in the particulars of it are sort of\n",
            "[29:23.760 --> 29:31.440]  incidental to your existence. You are just in an ongoing endeavor to fulfill your destiny,\n",
            "[29:31.440 --> 29:38.800]  to get as far along in it as possible. But there's no notion that there is something greater than\n",
            "[29:38.800 --> 29:47.200]  outside of you, or the notion that other human beings in particular have any factor in your\n",
            "[29:47.200 --> 29:52.640]  realization of yourself. Yeah, nothing greater than history. I mean, the way he puts it is that\n",
            "[29:52.640 --> 29:56.080]  yes, nothing greater than history. The unity is the unity of wills. Testing one's will and the\n",
            "[29:56.080 --> 30:00.480]  will of another within that larger will. The larger will is the unifying thing, right? For\n",
            "[30:00.480 --> 30:06.000]  Schopenhauer, that was essentially God and the thing in itself. So it's a high stakes game.\n",
            "[30:06.000 --> 30:10.960]  Seems like it's a struggle of will against will. One will is going to destroy and overpower the\n",
            "[30:10.960 --> 30:16.160]  other will. The wrong master-slave dynamic, because then the will that destroys the other\n",
            "[30:16.160 --> 30:21.120]  will doesn't get what it needs to continue its existence, which is recognition from the other.\n",
            "[30:21.120 --> 30:28.080]  But in this case, the judge's theory is that, in fact, it is uniting and binding. And he alluded\n",
            "[30:28.080 --> 30:32.080]  to this again at the end of the book, by the way, in Griffin. He'll say blood is the only thing that\n",
            "[30:32.080 --> 30:38.160]  can actually bind us together. So what is the uniting thing? Well, the larger will is destiny.\n",
            "[30:38.160 --> 30:44.080]  Those deterministic forces that will cause our paths to intersect, that cause the fates of two\n",
            "[30:44.080 --> 30:50.800]  nations to intersect in such a horrible way. So the binding thing is history and deterministic\n",
            "[30:50.800 --> 30:59.200]  forces. That's how we can be united in a violent interaction. So it's sick, obviously, but that's\n",
            "[30:59.200 --> 31:05.680]  the theory. I agree. I'm just trying to understand its self-consistency. In the case of the universe\n",
            "[31:05.680 --> 31:11.600]  being a contest of wills, it's important, I think, to remember that those wills aren't necessarily\n",
            "[31:11.600 --> 31:17.600]  embodied by individuals. I mean, that's just a distinction almost without a difference,\n",
            "[31:17.600 --> 31:22.720]  I think, for Holden. Well, the larger will is certainly not. Yeah. And then I think you're\n",
            "[31:22.720 --> 31:26.720]  putting the question again of whether it can be man against nature, a struggle against\n",
            "[31:26.720 --> 31:30.800]  a war in the sense of a struggle against natural forces of the desert or something like that,\n",
            "[31:30.800 --> 31:37.120]  which… Yes. And this is where, is it going too far to say it's a destiny as history,\n",
            "[31:37.840 --> 31:46.320]  and it's sort of your mere existence when having continually put your own existence to hazard,\n",
            "[31:46.320 --> 31:54.000]  that is the pinnacle of agency. And all those other forces that you've put yourself to a hazard\n",
            "[31:54.000 --> 31:59.920]  and that the will would be the thing that you are hazarding against, the will of the universe in a\n",
            "[31:59.920 --> 32:06.000]  myriad possible manifestations, but that's what it means to be. You and your own will have put\n",
            "[32:06.000 --> 32:13.840]  yourself to a hazard and that act of risk is manifest in being against another will, in the\n",
            "[32:13.840 --> 32:19.280]  wind of some other will. In chapter 12, when the judge… What's the beef between the judge and the\n",
            "[32:19.280 --> 32:26.720]  kid? The judge suspects that the kid is appealing to the moral law instead of the law of history,\n",
            "[32:26.720 --> 32:31.760]  right? So, he will say… Chapter 12 or… Chapter 12, when the judge visits him in jail,\n",
            "[32:31.760 --> 32:36.160]  and this is after… In jails, the first time the kid gets a bit vocal and starts talking about,\n",
            "[32:36.960 --> 32:42.400]  in a remorseful way to the jailers, I think, about what he's been involved in. And then the judge\n",
            "[32:42.400 --> 32:47.520]  will say things like, you alone shaped events on their calamitous course. You sat in judgment of\n",
            "[32:47.520 --> 32:53.040]  your own deeds. You put your own allowances before the judgments of history, right? Which is moral\n",
            "[32:53.040 --> 32:58.240]  reasoning type allowances. And therefore, you poison the enterprise. You dishonored war. War\n",
            "[32:58.240 --> 33:02.400]  is actually holy. War should have been the God that you were worshipping. And instead, you\n",
            "[33:02.400 --> 33:08.240]  went with morality. That's ultimately why it seems… It's a little unclear in the end if he\n",
            "[33:08.240 --> 33:13.040]  kills a kid, but it seems that he does. That's his beef with the kid. He'll say at the end in\n",
            "[33:13.040 --> 33:17.280]  Griffin as well, war is dishonored when its nobility is called into question. You become\n",
            "[33:17.280 --> 33:23.360]  a false dancer and this and that. So, the important, I think, point to take out of all of that,\n",
            "[33:23.360 --> 33:28.960]  there's an implication in all this that goal-directed behavior is always heteronomy.\n",
            "[33:28.960 --> 33:34.160]  So, for instance, if you are a traditional moralist, you might say, well, being subject to\n",
            "[33:34.160 --> 33:39.920]  my desires and to objects and that's an unfreedom. But if I can reason and be responsive to other\n",
            "[33:39.920 --> 33:46.400]  goals, higher goals, then there's freedom in that. And the judge's point is that any goal-directed\n",
            "[33:46.400 --> 33:55.040]  behavior is subjection unless the goal is submission to the judgments of history, submission to\n",
            "[33:55.840 --> 33:59.600]  destiny. That's sort of the significance of the epilogue at the very end of the book\n",
            "[33:59.600 --> 34:04.400]  where the drilling of these holes, I think, seems less like the pursuit of some continuance than the\n",
            "[34:04.400 --> 34:09.920]  verification of a principle, a validation of a sequence, and causality as if each round perfect\n",
            "[34:09.920 --> 34:15.440]  hole owed its existence to the one before it. So, Kantian idea is that autonomy through\n",
            "[34:16.320 --> 34:25.040]  an internally issued law, here it's autonomy through behavior that is not goal-directed at all\n",
            "[34:25.040 --> 34:31.120]  except insofar as its obedience to causal principles of history, let's put it that way.\n",
            "[34:31.120 --> 34:34.800]  I wanted to evaluate Judge Holden a little bit on this.\n",
            "[34:34.800 --> 34:36.000]  Is he a good philosopher?\n",
            "[34:37.120 --> 34:41.360]  There's two things that come to mind. One is to continue to pursue this question of the role of\n",
            "[34:41.360 --> 34:49.520]  the other in our becoming full realizations of ourselves, okay, which to me, that's absent for\n",
            "[34:49.520 --> 34:56.560]  him. But the other one is just evaluating his own actions in the context of this war. Let's just\n",
            "[34:56.560 --> 35:02.800]  take the example where he picks up the child, travels around with the child on his horse for a\n",
            "[35:02.800 --> 35:06.480]  while until later he kills the child and scalps it, right?\n",
            "[35:06.480 --> 35:09.920]  And this is like the lone survivor of a village that they've massacred, this child.\n",
            "[35:09.920 --> 35:16.640]  Yes, the lone survivor of a village that he's massacred. He basically picks up this kid as a\n",
            "[35:16.640 --> 35:24.560]  kind of trophy along the way. There's a sense in which there's a kind of sick notion that he's\n",
            "[35:24.560 --> 35:30.640]  preserved this child from the massacre, but only to kill the child later on purpose.\n",
            "[35:30.640 --> 35:35.920]  How is that a contest of wills? That is an example, and it seems to me Holden has numerous\n",
            "[35:35.920 --> 35:44.480]  examples. It isn't putting himself to a hazard. It is just gratuitous domination and wanton\n",
            "[35:44.480 --> 35:51.520]  violent domination, which isn't the same thing as putting yourself to risk and surviving the risk,\n",
            "[35:51.520 --> 35:53.120]  surviving the hazard.\n",
            "[35:53.120 --> 36:00.400]  He's suzeraining the earth, stuffing birds, killing birds, stuffing them, that which exists\n",
            "[36:00.400 --> 36:04.640]  without my knowledge exists without my consent, sketching things and then destroying them or\n",
            "[36:04.640 --> 36:05.760]  scratching them out.\n",
            "[36:05.760 --> 36:10.240]  That's the tension that I'm wondering about is that the piece we've focused on for the past 45\n",
            "[36:10.240 --> 36:16.640]  minutes, that seems to be one pole of his philosophy regarding the state of war. But the\n",
            "[36:16.640 --> 36:22.960]  notion that nothing exists in the world unless I understand it and I comprehend it and I destroy\n",
            "[36:22.960 --> 36:28.080]  it. I mean, he has this scene where he goes and he gathers all these things, he draws them out in\n",
            "[36:28.080 --> 36:34.080]  his book, and then he goes and he burns all the artifacts themselves. That's his act of consuming\n",
            "[36:34.080 --> 36:41.120]  the world into his own, his suzeraining it. To me, those two things are like separate philosophies\n",
            "[36:41.120 --> 36:46.160]  and there's a tension between them. It feels like, not that Judge Holden has any, you know,\n",
            "[36:46.160 --> 36:51.840]  he has to be consistent. I mean, it seems to me that he's kind of fooling himself about the way\n",
            "[36:51.840 --> 36:56.400]  in which he presents his romantization of the world as war.\n",
            "[36:56.400 --> 37:00.560]  Well, that was kind of what I was driving at earlier when I was saying that he's speaking out\n",
            "[37:00.560 --> 37:06.080]  of two sides of his mouth. But I don't think the two things are inconsistent. As long as you continue\n",
            "[37:06.080 --> 37:11.600]  to do that, it doesn't obviate that you can do despicable and especially if you think that there's\n",
            "[37:11.600 --> 37:16.800]  no morality, then it's irrelevant. Well, we can go back to that, but I do think that they are\n",
            "[37:16.800 --> 37:22.080]  inconsistent with one another. What I wanted to say was, because I think we got to kind of\n",
            "[37:22.080 --> 37:27.600]  get towards the end anyway, is that the suggestion is, it's not just the suggestion,\n",
            "[37:27.600 --> 37:32.240]  it becomes clearer. But in retrospect, all of these conversations, all these discourses that\n",
            "[37:32.240 --> 37:36.720]  the judge is doing are for the sake of the kid. Because he doesn't care about the other people,\n",
            "[37:36.720 --> 37:40.560]  they're either fully in or they're like the ex-priests, they're irredeemable from his\n",
            "[37:40.560 --> 37:45.440]  perspective. The kid is the one, he's trying to figure out, you know, the kid is like Job or\n",
            "[37:45.440 --> 37:52.000]  something, right? Where he's like, he's trying to convert him. And I think that the judge keeps\n",
            "[37:52.000 --> 37:55.680]  goading him and saying that he never fully committed, he doesn't understand the philosophy\n",
            "[37:55.680 --> 38:02.320]  of violence and war, that what the judge wants is for the kid to kill him or try to kill him anyway.\n",
            "[38:02.320 --> 38:06.880]  And there is that moment, I think it's in the penultimate chapter or the chapter before that,\n",
            "[38:06.880 --> 38:12.160]  where the kid and the priest are in the desert and the judge walks by and the priest keeps telling\n",
            "[38:12.160 --> 38:16.960]  him, you've got to do this, this is your chance, you know, this is... And the judge says, I've\n",
            "[38:16.960 --> 38:20.560]  walked by you twice and I'm going to walk by you again. A third time.\n",
            "[38:20.560 --> 38:25.840]  A third time. You do not have it in you, you cannot do this. But it's as if he's setting the\n",
            "[38:25.840 --> 38:33.760]  stage. So, ultimately, the judge is wagering in a very real way, his existence. And because\n",
            "[38:33.760 --> 38:39.680]  he's winning by not annihilating in some sense his opponent, although we know he eventually does,\n",
            "[38:39.680 --> 38:46.160]  but it's like he's giving the kid multiple, multiple chances to validate his thesis and to\n",
            "[38:46.160 --> 38:53.120]  fully become an autonomous individual. And then after, you know, what is it, the kid's 16 when\n",
            "[38:53.120 --> 38:58.160]  the whole thing ends and he's 28, I think, when they meet in Griffin. So, it's been 12 years.\n",
            "[38:58.160 --> 39:04.480]  And mind you, right before he goes to Griffin, the kid kills a child, a 15-year-old at the\n",
            "[39:04.480 --> 39:09.120]  campfire. I don't know if you remember that. By the way, the child, this is one of the two\n",
            "[39:09.120 --> 39:14.480]  brothers whose grandfather was the guy they tell the story about. Well, the child can...\n",
            "[39:14.480 --> 39:21.520]  In all fairness. Yeah. It doesn't matter. It's a test of wills. He went to war and he tested his\n",
            "[39:21.520 --> 39:25.680]  will. And he, of course, he did it by hiding out because he knew the kid was going to come back\n",
            "[39:25.680 --> 39:30.240]  and try to kill him. He tries to hide from the kid, the kid comes, yeah. Well, and by the way,\n",
            "[39:30.240 --> 39:38.400]  talk about those two kids being the grandchildren of a guy, a traveler, who was murdered and buried\n",
            "[39:38.400 --> 39:43.520]  in the road. And do you remember them telling the story of the old man who's the blacksmith\n",
            "[39:43.520 --> 39:47.040]  or whatever? The judge tells the story, the harnesser. The judge tells the story. The\n",
            "[39:47.040 --> 39:51.680]  harness maker. Harness maker, yeah. So, the implication is that these two kids are the\n",
            "[39:51.680 --> 39:55.760]  grandchildren of that guy who got murdered, the one who gets killed by the harness maker.\n",
            "[39:55.760 --> 40:00.960]  To wrap us up for today. Okay. So, maybe we could talk about that in the third part. Because the\n",
            "[40:00.960 --> 40:06.560]  theme is the frozen, what does the judge call it? The point of that harness maker story is to say\n",
            "[40:07.200 --> 40:12.720]  that there's a concept, and the book begins with this, of violent regression based on an idealized\n",
            "[40:12.720 --> 40:19.600]  father figure that has simply disappeared from one's life. The frozen god of the father or\n",
            "[40:19.600 --> 40:25.760]  something like that. And Holden, at the end, tells the kid, you could have been my son.\n",
            "[40:26.720 --> 40:31.200]  Yeah. We should probably talk about the. The jakes. The dancing bear. Which is bizarre,\n",
            "[40:31.200 --> 40:36.400]  bizarre and incomprehensible. Oh, and the dancing of Judge Holden. The dancing bear,\n",
            "[40:36.400 --> 40:42.080]  and then Judge Holden takes over. The pigs, oh, the pigs, yeah, so it all comes full circle,\n",
            "[40:42.080 --> 40:46.560]  right? So, you have the dancing bear in the saloon who gets shot by the.\n",
            "[40:46.560 --> 40:53.120]  Someone. By somebody after the bear's owner tries to ask him for money. We have the previous bear\n",
            "[40:53.120 --> 40:57.920]  that has pig eyes, and the judge having pig eyes. And then the judge has the conversation with the\n",
            "[40:57.920 --> 41:04.160]  kid, who's now the man, although not capitalized at the way the kid is, K and kid is. The kid goes\n",
            "[41:04.160 --> 41:09.760]  to go to the bathroom in the outhouse, and the judge is inside when he opens the door,\n",
            "[41:09.760 --> 41:16.560]  naked. Bear hugs him and locks the door behind him. And all you get after that is just two men,\n",
            "[41:16.560 --> 41:21.760]  I think, who look in and are dumbfounded to the point where they can't even describe or what it's,\n",
            "[41:21.760 --> 41:27.440]  what the scene is in there. It ends with the judge on the dance floor, dancing naked,\n",
            "[41:28.400 --> 41:34.560]  like the bear twirling around. It is bizarre. He never sleeps, he says. He says he'll never die.\n",
            "[41:34.560 --> 41:39.520]  He never sleeps, the judge. He is dancing, dancing. He says that he will never die.\n",
            "[41:39.520 --> 41:47.120]  The weirdest paragraph is the last one. It's sing-songy, like into a fade into a fever dream.\n",
            "[41:47.120 --> 41:51.280]  Yes. It's different than everything that comes before. It's in present tense. There's a few\n",
            "[41:51.280 --> 41:56.320]  places where the book does go in the present tense in an odd way from past tense, but this is the\n",
            "[41:56.320 --> 42:02.720]  most prominent one, as if now we are talking about a force of nature and a principle and something\n",
            "[42:02.720 --> 42:08.960]  that does exist forever and is not to be referred to as something that has passed. This is something\n",
            "[42:08.960 --> 42:14.240]  he's doing forever. He bows to the fiddlers and he does this, he does that. This is eternal,\n",
            "[42:14.240 --> 42:21.280]  this dance. This unity aspect that we were talking about does get articulated again as\n",
            "[42:21.280 --> 42:30.320]  a ritual of letting of blood, which is also related to this gaming and orchestration of events.\n",
            "[42:30.320 --> 42:36.800]  So, he's talking with the kid, and this is where not having quotation marks sometimes get in the\n",
            "[42:36.800 --> 42:42.320]  way. The man seeks his own destiny. Yeah. Let me put it this way, said the judge. If it is so that\n",
            "[42:42.320 --> 42:47.760]  they themselves have no reason and yet are indeed here, must they not be here by reason of some\n",
            "[42:47.760 --> 42:54.640]  other? And if this is so, can you guess what that other might be? No. Can you? I know him well. He\n",
            "[42:54.640 --> 42:58.720]  poured the tumbler full once more and he took a drink himself from the bottle and wiped his mouth\n",
            "[42:58.720 --> 43:04.400]  and turned to regard the room. This is an orchestration for an event, for a dance in fact.\n",
            "[43:04.400 --> 43:09.360]  The participants will be apprised for their roles at the proper time. For now it is enough that they\n",
            "[43:09.360 --> 43:14.560]  have arrived as the dance is the thing with which we are concerned and contains complete within\n",
            "[43:14.560 --> 43:20.080]  itself, its own arrangement and history and finale. There is no necessity that the dancers contain\n",
            "[43:20.080 --> 43:25.280]  these things within themselves as well. In any event, the history of all is not the history of\n",
            "[43:25.280 --> 43:30.480]  each nor indeed the sum of those histories and none here can finally comprehend the reason for\n",
            "[43:30.480 --> 43:36.720]  his presence or for he has no way of knowing even in what the event consists. In fact, were he to\n",
            "[43:36.720 --> 43:42.160]  know, he might well absent himself and you can see that cannot be any part of the plan if the plan\n",
            "[43:42.160 --> 43:47.440]  there be. An event, a ceremony, the orchestration thereof, the overture carries certain marks of\n",
            "[43:47.440 --> 43:52.800]  decisiveness, includes the slaying of a large bear. Now I'm confused, right? It seems like the\n",
            "[43:52.800 --> 43:57.440]  narrator's saying that part. Yeah, it does. And initially when I read this book, I thought,\n",
            "[43:57.440 --> 44:02.080]  first of all, Judge Holden is all over the fucking place. This is like someone's trying to graft\n",
            "[44:02.080 --> 44:06.000]  something philosophical onto this. I have much more appreciation. I think there is a\n",
            "[44:06.000 --> 44:10.800]  more consistency and it's a very philosophically interesting idea that the judge actually has.\n",
            "[44:10.800 --> 44:18.560]  And then at this point, this is often the mark of a bad piece of writing when the author inserts\n",
            "[44:18.560 --> 44:25.040]  their own commentary on their work into the mouth of a character, in my opinion. In this case,\n",
            "[44:25.040 --> 44:29.840]  I don't think so. I mean, I think it's fine. But because it's part of the point that the judge is\n",
            "[44:29.840 --> 44:35.120]  trying to make, I mean, everything is a narrative for him, right? And it's orchestrated, it's a\n",
            "[44:35.120 --> 44:41.120]  historical, it's predestined, it's a product of historical forces. And so it's not surprising that\n",
            "[44:41.120 --> 44:45.600]  he sees it through that lens and sounds like the narrator at that point. You were bringing up the\n",
            "[44:45.600 --> 44:51.440]  ritual and the bloodletting for a reason, I thought. Yeah. So this is Holden continuing.\n",
            "[44:51.440 --> 44:55.680]  A ceremony then. One could well argue that there are not categories of no ceremony,\n",
            "[44:55.680 --> 45:00.560]  but only ceremonies of greater or lesser degree. And deferring to this argument, we will say that\n",
            "[45:00.560 --> 45:06.080]  this is a ceremony of a certain magnitude, perhaps more commonly called a ritual. A ritual includes\n",
            "[45:06.080 --> 45:12.400]  the letting of blood. Rituals which fail in this requirement are but mock rituals. Here every man\n",
            "[45:12.400 --> 45:17.200]  knows the false at once. Never doubt it. That feeling in the breast that evokes a child's\n",
            "[45:17.200 --> 45:21.600]  memory of loneliness, such as when the others have gone and only the game is left with the\n",
            "[45:21.600 --> 45:27.760]  solitary participant. A solitary game without opponent, where only the rules are at hazard.\n",
            "[45:27.760 --> 45:33.520]  Don't look away. We are not speaking in mysteries. You of all men are no stranger to that feeling,\n",
            "[45:33.520 --> 45:39.840]  the emptiness and the despair. It is that which we take arms against, is it not? Is not blood the\n",
            "[45:39.840 --> 45:45.840]  tempering agent in the mortar which bonds? The judge leaned closer. What do you think death is,\n",
            "[45:45.840 --> 45:52.080]  man? Of whom do we speak when we speak of a man who was and is not? Are these blind riddles,\n",
            "[45:52.640 --> 45:58.080]  or are they not some part of every man's jurisdiction? What is death if not an agency,\n",
            "[45:58.640 --> 46:04.000]  and whom does he intend toward? Look at me. Look at me. I don't like craziness.\n",
            "[46:04.000 --> 46:13.360]  Says the kid. Nor I, nor I. Bear with me. The next, yeah. Does he say that? Yeah. Oh,\n",
            "[46:13.360 --> 46:19.120]  it's hilarious. The next part, which I won't try to read because I know we're running out of time,\n",
            "[46:19.120 --> 46:25.680]  but it basically will say men's complaints about life actually conceal the fact that they just\n",
            "[46:25.680 --> 46:31.040]  want to overpower other people, that it's all about power. Yeah. So that consistency is there.\n",
            "[46:31.040 --> 46:36.000]  Yeah. It's about power. Yep. And it's Thrasymachus. And then ultimately he comes to this idea,\n",
            "[46:36.000 --> 46:41.040]  you know, man seeks his own destiny and no other. Said the judge, will or nil, any man who could\n",
            "[46:41.040 --> 46:45.200]  discover his own fate and elect therefore some opposite course would only come at last at the\n",
            "[46:45.200 --> 46:50.800]  self-same reckoning at the same appointed time for each man's destiny is as large as the world\n",
            "[46:50.800 --> 46:56.240]  he inhabits and contains within it all opposites as well. And again, the concept of agency he's\n",
            "[46:56.240 --> 47:02.240]  trying to retrieve out of that as the endorsement of destiny and subjection of oneself to the\n",
            "[47:02.240 --> 47:07.360]  highest stakes in relation to destiny, which is death, the possibility of death. I haven't myself\n",
            "[47:07.360 --> 47:12.880]  given thought to the dancing bear and the dancing of judge and the dancing of the judge. I mean,\n",
            "[47:12.880 --> 47:18.800]  the dance is, there was a blood letting and a ritual letting of blood and something terrible\n",
            "[47:18.800 --> 47:23.680]  happens to the kid. We assume the dance is understandable in the sense, right? The dance\n",
            "[47:23.680 --> 47:29.360]  is orchestrated. It's when you dance in the way, if you are dancing an orchestrated dance,\n",
            "[47:29.360 --> 47:36.000]  you're doing moves that other people have defined for you. There's a great moment in the movie,\n",
            "[47:36.000 --> 47:41.680]  Ex Machina, where the creator of the intelligent robots, they're able to dance, but they're all\n",
            "[47:41.680 --> 47:46.720]  dancing in concert with him according to his will. So it's a sign of autonomy in a sense,\n",
            "[47:46.720 --> 47:52.000]  right? And the sign of artificial intelligence, but as creator, he can't but help choreograph\n",
            "[47:52.000 --> 47:56.560]  their dance to be exactly what he's doing. But anyway, so the dance is something in which you\n",
            "[47:56.560 --> 48:02.400]  can express yourself and it feels like autonomy and feels like agency in that expressive moment,\n",
            "[48:02.400 --> 48:08.640]  but you are, if it's choreographed, you are simply going through moves defined by others.\n",
            "[48:08.640 --> 48:15.840]  And I think that perfectly represents this theory of agency and the embrace of determinism. So,\n",
            "[48:15.840 --> 48:19.520]  I mean, so that part seems somewhat clear. I just don't, yeah, I haven't figured out\n",
            "[48:19.520 --> 48:23.360]  the poor bear. And then what do we think of the ending?\n",
            "[48:23.360 --> 48:27.440]  I think he's mutilated into a horrible mess in the Jake.\n",
            "[48:27.440 --> 48:33.440]  I agree. I read one commentary, internet commentary, and they were like,\n",
            "[48:34.000 --> 48:40.080]  some people think it was sodomy, but the judge showed no predilection for sexual\n",
            "[48:40.080 --> 48:46.560]  deviation before. I was like, okay, you didn't read the book. But I wouldn't be surprised if\n",
            "[48:46.560 --> 48:50.080]  I wouldn't be surprised if he sodomized him before he killed him. But I have this image\n",
            "[48:50.080 --> 48:56.080]  of the kid upside down, dead with his legs sticking out of the toilet, and out of the,\n",
            "[48:56.080 --> 48:59.200]  what's it, the abattoir or whatever they call that, the hole.\n",
            "[48:59.200 --> 49:03.520]  And at this point he's in his 40s, right? So he's not an abattoir is a slaughterhouse.\n",
            "[49:03.520 --> 49:05.600]  Sorry, that's not what I meant to say. I meant to say.\n",
            "[49:05.600 --> 49:10.160]  So, I mean, it would be an interesting confluence of terms in this case.\n",
            "[49:10.160 --> 49:13.120]  No, the kid's 26, 28, something like that.\n",
            "[49:13.120 --> 49:14.080]  28, yeah.\n",
            "[49:14.080 --> 49:15.920]  No, in the end, he's in his 40s actually.\n",
            "[49:15.920 --> 49:16.560]  What?\n",
            "[49:16.560 --> 49:17.040]  Yeah.\n",
            "[49:17.040 --> 49:17.920]  Really?\n",
            "[49:17.920 --> 49:21.600]  Yeah, because there's a montage and then it gives you a date.\n",
            "[49:21.600 --> 49:25.200]  No, I thought the montage was that he was 28. I would have sworn that.\n",
            "[49:25.200 --> 49:28.800]  He is 28 at a certain point and then you get another fast forward.\n",
            "[49:28.800 --> 49:31.840]  So he meets the judge again after 25 years?\n",
            "[49:32.640 --> 49:36.320]  Yes. There are decades of him having different trades.\n",
            "[49:36.320 --> 49:40.880]  I didn't realize that. I really thought it was just 12 years, but okay, I'm not gonna.\n",
            "[49:40.880 --> 49:43.360]  You know, maybe I'm wrong. You guys can correct. I don't think we need to.\n",
            "[49:43.360 --> 49:45.200]  Well, we can sort that out for the third.\n",
            "[49:45.200 --> 49:48.400]  Yeah. There's plenty more for us to talk about in a third.\n",
            "[49:48.400 --> 49:51.760]  Including this concept of the frozen god of the father,\n",
            "[49:51.760 --> 49:55.360]  the abandoning father of the father who's died too early.\n",
            "[49:55.360 --> 49:55.680]  Yes.\n",
            "[49:55.680 --> 50:00.320]  Things like that because the judge tries to make it speak to what's happening to the Indians.\n",
            "[50:00.320 --> 50:06.480]  And also it speaks to what's happened to the kid and the idea of a regression to violence\n",
            "[50:06.480 --> 50:11.040]  that is based on this condition. The concept of regression actually turns out to be important as\n",
            "[50:11.040 --> 50:11.280]  well.\n",
            "[50:12.160 --> 50:12.800]  Okay.\n",
            "[50:12.800 --> 50:17.520]  So if you're a citizen, you can look forward to listening to part three\n",
            "[50:17.520 --> 50:22.000]  of the discussion on blood meridian for our next episode.\n",
            "[50:22.000 --> 50:24.880]  We're going to return to some law and political philosophy.\n",
            "[50:24.880 --> 50:29.120]  And while we talk about unenumerated rights, you can participate in the conversation in\n",
            "[50:29.120 --> 50:33.680]  general by commenting on the blog post for the episode at partialexaminedlife.com or\n",
            "[50:33.680 --> 50:36.240]  emailing us or on Facebook or Twitter.\n",
            "[50:36.240 --> 50:37.200]  Thanks for listening.\n",
            "[50:37.200 --> 50:37.600]  Good night.\n",
            "[50:37.600 --> 50:38.000]  Good night.\n",
            "[50:38.000 --> 50:43.600]  Good night.\n"
          ]
        },
        {
          "output_type": "display_data",
          "data": {
            "text/plain": [
              "<IPython.core.display.Markdown object>"
            ],
            "text/markdown": "**Transcript file created: /content/drive/My Drive/Colab Notebooks/Whisper Youtube/PEL_ep_305pt2_11-7-22.txt**"
          },
          "metadata": {}
        },
        {
          "output_type": "display_data",
          "data": {
            "text/plain": [
              "<IPython.core.display.Markdown object>"
            ],
            "text/markdown": "**Transcript file created: /content/drive/My Drive/Colab Notebooks/Whisper Youtube/PEL_ep_305pt2_11-7-22.vtt**"
          },
          "metadata": {}
        },
        {
          "output_type": "display_data",
          "data": {
            "text/plain": [
              "<IPython.core.display.Markdown object>"
            ],
            "text/markdown": "**Transcript file created: /content/drive/My Drive/Colab Notebooks/Whisper Youtube/PEL_ep_305pt2_11-7-22.srt**"
          },
          "metadata": {}
        }
      ],
      "source": [
        "#@markdown # **Run the model** 🚀\n",
        "\n",
        "#@markdown Run this cell to execute the transcription of the video. This can take a while and very based on the length of the video and the number of parameters of the model selected above.\n",
        "\n",
        "#@markdown ## **Parameters** ⚙️\n",
        "\n",
        "#@markdown ### **Behavior control**\n",
        "#@markdown ---\n",
        "language = \"English\" #@param ['Auto detection', 'Afrikaans', 'Albanian', 'Amharic', 'Arabic', 'Armenian', 'Assamese', 'Azerbaijani', 'Bashkir', 'Basque', 'Belarusian', 'Bengali', 'Bosnian', 'Breton', 'Bulgarian', 'Burmese', 'Castilian', 'Catalan', 'Chinese', 'Croatian', 'Czech', 'Danish', 'Dutch', 'English', 'Estonian', 'Faroese', 'Finnish', 'Flemish', 'French', 'Galician', 'Georgian', 'German', 'Greek', 'Gujarati', 'Haitian', 'Haitian Creole', 'Hausa', 'Hawaiian', 'Hebrew', 'Hindi', 'Hungarian', 'Icelandic', 'Indonesian', 'Italian', 'Japanese', 'Javanese', 'Kannada', 'Kazakh', 'Khmer', 'Korean', 'Lao', 'Latin', 'Latvian', 'Letzeburgesch', 'Lingala', 'Lithuanian', 'Luxembourgish', 'Macedonian', 'Malagasy', 'Malay', 'Malayalam', 'Maltese', 'Maori', 'Marathi', 'Moldavian', 'Moldovan', 'Mongolian', 'Myanmar', 'Nepali', 'Norwegian', 'Nynorsk', 'Occitan', 'Panjabi', 'Pashto', 'Persian', 'Polish', 'Portuguese', 'Punjabi', 'Pushto', 'Romanian', 'Russian', 'Sanskrit', 'Serbian', 'Shona', 'Sindhi', 'Sinhala', 'Sinhalese', 'Slovak', 'Slovenian', 'Somali', 'Spanish', 'Sundanese', 'Swahili', 'Swedish', 'Tagalog', 'Tajik', 'Tamil', 'Tatar', 'Telugu', 'Thai', 'Tibetan', 'Turkish', 'Turkmen', 'Ukrainian', 'Urdu', 'Uzbek', 'Valencian', 'Vietnamese', 'Welsh', 'Yiddish', 'Yoruba']\n",
        "#@markdown > Language spoken in the audio, use `Auto detection` to let Whisper detect the language.\n",
        "#@markdown ---\n",
        "verbose = 'Live transcription' #@param ['Live transcription', 'Progress bar', 'None']\n",
        "#@markdown > Whether to print out the progress and debug messages.\n",
        "#@markdown ---\n",
        "output_type = 'All' #@param ['All', '.txt', '.vtt', '.srt']\n",
        "#@markdown > Type of file to generate to record the transcription.\n",
        "#@markdown ---\n",
        "task = 'transcribe' #@param ['transcribe', 'translate']\n",
        "#@markdown > Whether to perform X->X speech recognition (`transcribe`) or X->English translation (`translate`).\n",
        "#@markdown ---\n",
        "\n",
        "#@markdown <br/>\n",
        "\n",
        "#@markdown ### **Optional: Fine tunning** \n",
        "#@markdown ---\n",
        "temperature = 0.15 #@param {type:\"slider\", min:0, max:1, step:0.05}\n",
        "#@markdown > Temperature to use for sampling.\n",
        "#@markdown ---\n",
        "temperature_increment_on_fallback = 0.2 #@param {type:\"slider\", min:0, max:1, step:0.05}\n",
        "#@markdown > Temperature to increase when falling back when the decoding fails to meet either of the thresholds below.\n",
        "#@markdown ---\n",
        "best_of = 5 #@param {type:\"integer\"}\n",
        "#@markdown > Number of candidates when sampling with non-zero temperature.\n",
        "#@markdown ---\n",
        "beam_size = 5 #@param {type:\"integer\"}\n",
        "#@markdown > Number of beams in beam search, only applicable when temperature is zero.\n",
        "#@markdown ---\n",
        "patience = 1.0 #@param {type:\"number\"}\n",
        "#@markdown > Optional patience value to use in beam decoding, as in [*Beam Decoding with Controlled Patience*](https://arxiv.org/abs/2204.05424), the default (1.0) is equivalent to conventional beam search.\n",
        "#@markdown ---\n",
        "length_penalty = -0.05 #@param {type:\"slider\", min:-0.05, max:1, step:0.05}\n",
        "#@markdown > Optional token length penalty coefficient (alpha) as in [*Google's Neural Machine Translation System*](https://arxiv.org/abs/1609.08144), set to negative value to uses simple length normalization.\n",
        "#@markdown ---\n",
        "suppress_tokens = \"-1\" #@param {type:\"string\"}\n",
        "#@markdown > Comma-separated list of token ids to suppress during sampling; '-1' will suppress most special characters except common punctuations.\n",
        "#@markdown ---\n",
        "initial_prompt = \"\" #@param {type:\"string\"}\n",
        "#@markdown > Optional text to provide as a prompt for the first window.\n",
        "#@markdown ---\n",
        "condition_on_previous_text = True #@param {type:\"boolean\"}\n",
        "#@markdown > if True, provide the previous output of the model as a prompt for the next window; disabling may make the text inconsistent across windows, but the model becomes less prone to getting stuck in a failure loop.\n",
        "#@markdown ---\n",
        "fp16 = True #@param {type:\"boolean\"}\n",
        "#@markdown > whether to perform inference in fp16.\n",
        "#@markdown ---\n",
        "compression_ratio_threshold = 2.4 #@param {type:\"number\"}\n",
        "#@markdown > If the gzip compression ratio is higher than this value, treat the decoding as failed.\n",
        "#@markdown ---\n",
        "logprob_threshold = -1.0 #@param {type:\"number\"}\n",
        "#@markdown > If the average log probability is lower than this value, treat the decoding as failed.\n",
        "#@markdown ---\n",
        "no_speech_threshold = 0.6 #@param {type:\"slider\", min:-0.0, max:1, step:0.05}\n",
        "#@markdown > If the probability of the <|nospeech|> token is higher than this value AND the decoding has failed due to `logprob_threshold`, consider the segment as silence.\n",
        "#@markdown ---\n",
        "\n",
        "verbose_lut = {\n",
        "    'Live transcription': True,\n",
        "    'Progress bar': False,\n",
        "    'None': None\n",
        "}\n",
        "\n",
        "args = dict(\n",
        "    language = (None if language == \"Auto detection\" else language),\n",
        "    verbose = verbose_lut[verbose],\n",
        "    task = task,\n",
        "    temperature = temperature,\n",
        "    temperature_increment_on_fallback = temperature_increment_on_fallback,\n",
        "    best_of = best_of,\n",
        "    beam_size = beam_size,\n",
        "    patience=patience,\n",
        "    length_penalty=(length_penalty if length_penalty>=0.0 else None),\n",
        "    suppress_tokens=suppress_tokens,\n",
        "    initial_prompt=(None if not initial_prompt else initial_prompt),\n",
        "    condition_on_previous_text=condition_on_previous_text,\n",
        "    fp16=fp16,\n",
        "    compression_ratio_threshold=compression_ratio_threshold,\n",
        "    logprob_threshold=logprob_threshold,\n",
        "    no_speech_threshold=no_speech_threshold\n",
        ")\n",
        "\n",
        "temperature = args.pop(\"temperature\")\n",
        "temperature_increment_on_fallback = args.pop(\"temperature_increment_on_fallback\")\n",
        "if temperature_increment_on_fallback is not None:\n",
        "    temperature = tuple(np.arange(temperature, 1.0 + 1e-6, temperature_increment_on_fallback))\n",
        "else:\n",
        "    temperature = [temperature]\n",
        "\n",
        "if Model.endswith(\".en\") and args[\"language\"] not in {\"en\", \"English\"}:\n",
        "    warnings.warn(f\"{Model} is an English-only model but receipted '{args['language']}'; using English instead.\")\n",
        "    args[\"language\"] = \"en\"\n",
        "\n",
        "for video_path_local in video_path_local_list:\n",
        "    display(Markdown(f\"### {video_path_local}\"))\n",
        "\n",
        "    video_transcription = whisper.transcribe(\n",
        "        whisper_model,\n",
        "        str(video_path_local),\n",
        "        temperature=temperature,\n",
        "        **args,\n",
        "    )\n",
        "\n",
        "    # Save output\n",
        "    writing_lut = {\n",
        "        '.txt': whisper.utils.write_txt,\n",
        "        '.vtt': whisper.utils.write_vtt,\n",
        "        '.srt': whisper.utils.write_srt,\n",
        "    }\n",
        "\n",
        "    if output_type == \"All\":\n",
        "        for suffix, write_suffix in writing_lut.items():\n",
        "            transcript_local_path = video_path_local.with_suffix(suffix)\n",
        "            with open(transcript_local_path, \"w\", encoding=\"utf-8\") as f:\n",
        "                write_suffix(video_transcription[\"segments\"], file=f)\n",
        "            try:\n",
        "                transcript_drive_path = drive_whisper_path / transcript_local_path.name\n",
        "                shutil.copy(transcript_local_path, transcript_drive_path)\n",
        "                display(Markdown(f\"**Transcript file created: {transcript_drive_path}**\"))\n",
        "            except:\n",
        "                display(Markdown(f\"**Transcript file created: {transcript_local_path}**\"))\n",
        "    else:\n",
        "        transcript_local_path = video_path_local.with_suffix(output_type)\n",
        "\n",
        "        with open(transcript_local_path, \"w\", encoding=\"utf-8\") as f:\n",
        "            writing_lut[output_type](video_transcription[\"segments\"], file=f)\n",
        "        try:\n",
        "            transcript_drive_path = drive_whisper_path / transcript_local_path.name\n",
        "            shutil.copy(transcript_local_path, transcript_drive_path)\n",
        "            display(Markdown(f\"**Transcript file created: {transcript_drive_path}**\"))\n",
        "        except:\n",
        "            display(Markdown(f\"**Transcript file created: {transcript_local_path}**\"))"
      ]
    },
    {
      "cell_type": "code",
      "source": [],
      "metadata": {
        "id": "Ad6n1m4deAHp"
      },
      "execution_count": null,
      "outputs": []
    }
  ],
  "metadata": {
    "accelerator": "GPU",
    "colab": {
      "provenance": []
    },
    "kernelspec": {
      "display_name": "Python 3",
      "name": "python3"
    },
    "language_info": {
      "name": "python"
    }
  },
  "nbformat": 4,
  "nbformat_minor": 0
}